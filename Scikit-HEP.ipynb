{
 "cells": [
  {
   "cell_type": "code",
   "execution_count": 1,
   "id": "25c55a0a-3ad6-44fd-b2a3-3829bd960a7c",
   "metadata": {},
   "outputs": [],
   "source": [
    "x = 5"
   ]
  },
  {
   "cell_type": "code",
   "execution_count": 2,
   "id": "a76f712b-28c0-4e74-923b-427806a67446",
   "metadata": {},
   "outputs": [
    {
     "name": "stdout",
     "output_type": "stream",
     "text": [
      "big\n"
     ]
    }
   ],
   "source": [
    "if x<5:\n",
    "    print(\"same\")\n",
    "else:\n",
    "    print(\"big\")"
   ]
  },
  {
   "cell_type": "code",
   "execution_count": 3,
   "id": "0ab503bf-ea68-476a-b094-6962b55f9e76",
   "metadata": {},
   "outputs": [
    {
     "name": "stdout",
     "output_type": "stream",
     "text": [
      "0\n",
      "1\n",
      "2\n",
      "3\n",
      "4\n"
     ]
    }
   ],
   "source": [
    "for i in range(x):\n",
    "    print(i)"
   ]
  },
  {
   "cell_type": "code",
   "execution_count": 4,
   "id": "a5dea324-2a38-45ae-89d3-d3b4ac092273",
   "metadata": {},
   "outputs": [],
   "source": [
    "#import compiled_library\n",
    "\n",
    "#compiled_library.do_computationally_expensive_thing(big_array)"
   ]
  },
  {
   "cell_type": "code",
   "execution_count": 5,
   "id": "c7f40405-6880-423f-951d-751db168156f",
   "metadata": {},
   "outputs": [],
   "source": [
    "some_dict = {\"word\":1, \"another word\": 2, \"some other word\":3}"
   ]
  },
  {
   "cell_type": "code",
   "execution_count": 6,
   "id": "dd23df1d-7526-47b9-b232-d05c3a3f5a34",
   "metadata": {},
   "outputs": [
    {
     "data": {
      "text/plain": [
       "3"
      ]
     },
     "execution_count": 6,
     "metadata": {},
     "output_type": "execute_result"
    }
   ],
   "source": [
    "some_dict[\"some other word\"]"
   ]
  },
  {
   "cell_type": "code",
   "execution_count": 7,
   "id": "54a9001d-dfef-462e-a7a7-a49228cd458a",
   "metadata": {},
   "outputs": [
    {
     "name": "stdout",
     "output_type": "stream",
     "text": [
      "word 1\n",
      "another word 2\n",
      "some other word 3\n"
     ]
    }
   ],
   "source": [
    "for key in some_dict:\n",
    "    print(key, some_dict[key])"
   ]
  },
  {
   "cell_type": "code",
   "execution_count": 8,
   "id": "09254b71-45a7-4124-b4a1-b85598b2368c",
   "metadata": {},
   "outputs": [],
   "source": [
    "import numpy as np\n",
    "some_array = np.array([0.0, 1.1, 2.2, 3.3, 4.4, 5.5, 6.6, 7.7, 8.8, 9.9])"
   ]
  },
  {
   "cell_type": "code",
   "execution_count": 9,
   "id": "90fbd1e0-7b32-47a3-a947-a0a51ad493d7",
   "metadata": {},
   "outputs": [
    {
     "data": {
      "text/plain": [
       "4.4"
      ]
     },
     "execution_count": 9,
     "metadata": {},
     "output_type": "execute_result"
    }
   ],
   "source": [
    "some_array[4]"
   ]
  },
  {
   "cell_type": "code",
   "execution_count": 10,
   "id": "3da9f2b3-46e9-4950-ab08-38b3422da426",
   "metadata": {},
   "outputs": [
    {
     "name": "stdout",
     "output_type": "stream",
     "text": [
      "0.0\n",
      "1.1\n",
      "2.2\n",
      "3.3\n",
      "4.4\n",
      "5.5\n",
      "6.6\n",
      "7.7\n",
      "8.8\n",
      "9.9\n"
     ]
    }
   ],
   "source": [
    "for x in some_array:\n",
    "    print(x)"
   ]
  },
  {
   "cell_type": "code",
   "execution_count": 11,
   "id": "4951d06a-70e1-45cf-96c7-eaec20a5bf9b",
   "metadata": {},
   "outputs": [
    {
     "data": {
      "text/plain": [
       "dict_keys(['word', 'another word', 'some other word'])"
      ]
     },
     "execution_count": 11,
     "metadata": {},
     "output_type": "execute_result"
    }
   ],
   "source": [
    "some_dict={\"word\": 1, \"another word\": 2, \"some other word\": 3}\n",
    "some_dict.keys()"
   ]
  },
  {
   "cell_type": "code",
   "execution_count": 12,
   "id": "49fd2cf1-e595-4afe-9433-ccbc641903f9",
   "metadata": {},
   "outputs": [
    {
     "ename": "KeyError",
     "evalue": "'something I made up'",
     "output_type": "error",
     "traceback": [
      "\u001b[0;31m---------------------------------------------------------------------------\u001b[0m",
      "\u001b[0;31mKeyError\u001b[0m                                  Traceback (most recent call last)",
      "Cell \u001b[0;32mIn[12], line 1\u001b[0m\n\u001b[0;32m----> 1\u001b[0m some_dict[\u001b[38;5;124m\"\u001b[39m\u001b[38;5;124msomething I made up\u001b[39m\u001b[38;5;124m\"\u001b[39m]\n",
      "\u001b[0;31mKeyError\u001b[0m: 'something I made up'"
     ]
    }
   ],
   "source": [
    "some_dict[\"something I made up\"]"
   ]
  },
  {
   "cell_type": "code",
   "execution_count": 13,
   "id": "3bc9aa04-83b1-4bf2-a2e0-83a5b65fd4d0",
   "metadata": {},
   "outputs": [
    {
     "data": {
      "text/plain": [
       "123"
      ]
     },
     "execution_count": 13,
     "metadata": {},
     "output_type": "execute_result"
    }
   ],
   "source": [
    "some_dict[\"something I made up\"] = 123\n",
    "some_dict[\"something I made up\"]"
   ]
  },
  {
   "cell_type": "code",
   "execution_count": 14,
   "id": "4cbaaf67-07e7-4dc6-a6e4-f4b0c80cfdd8",
   "metadata": {},
   "outputs": [
    {
     "data": {
      "text/plain": [
       "dict_values([1, 2, 3, 123])"
      ]
     },
     "execution_count": 14,
     "metadata": {},
     "output_type": "execute_result"
    }
   ],
   "source": [
    "some_dict.values()"
   ]
  },
  {
   "cell_type": "code",
   "execution_count": 15,
   "id": "800549d9-2a1b-4b9d-a791-fdc85b763c93",
   "metadata": {},
   "outputs": [
    {
     "name": "stdout",
     "output_type": "stream",
     "text": [
      "word 1\n",
      "another word 2\n",
      "some other word 3\n",
      "something I made up 123\n"
     ]
    }
   ],
   "source": [
    "some_dict.items()\n",
    "for key, value in some_dict.items():\n",
    "    print(key, value)"
   ]
  },
  {
   "cell_type": "code",
   "execution_count": 16,
   "id": "4e105c69-6ad4-4901-8cfa-a2046c50e827",
   "metadata": {},
   "outputs": [
    {
     "ename": "IndexError",
     "evalue": "index 10 is out of bounds for axis 0 with size 10",
     "output_type": "error",
     "traceback": [
      "\u001b[0;31m---------------------------------------------------------------------------\u001b[0m",
      "\u001b[0;31mIndexError\u001b[0m                                Traceback (most recent call last)",
      "Cell \u001b[0;32mIn[16], line 7\u001b[0m\n\u001b[1;32m      5\u001b[0m some_array[\u001b[38;5;241m1\u001b[39m] \u001b[38;5;66;03m#okay\u001b[39;00m\n\u001b[1;32m      6\u001b[0m some_array[\u001b[38;5;241m9\u001b[39m] \u001b[38;5;66;03m#okay\u001b[39;00m\n\u001b[0;32m----> 7\u001b[0m some_array[\u001b[38;5;241m10\u001b[39m]\n",
      "\u001b[0;31mIndexError\u001b[0m: index 10 is out of bounds for axis 0 with size 10"
     ]
    }
   ],
   "source": [
    "import numpy as np\n",
    "\n",
    "some_array = np.array([0.0,1.1, 2.2, 3.3, 4.4, 5.5, 6.6, 7.7, 8.8, 9.9])\n",
    "some_array[0] #okay\n",
    "some_array[1] #okay\n",
    "some_array[9] #okay\n",
    "some_array[10] #not okay\n"
   ]
  },
  {
   "cell_type": "code",
   "execution_count": 17,
   "id": "52bc513f-802e-4b9e-841f-4942736e1bd8",
   "metadata": {},
   "outputs": [
    {
     "data": {
      "text/plain": [
       "10"
      ]
     },
     "execution_count": 17,
     "metadata": {},
     "output_type": "execute_result"
    }
   ],
   "source": [
    "len(some_array)"
   ]
  },
  {
   "cell_type": "markdown",
   "id": "2c6204eb-2642-4475-9022-8994ee290aee",
   "metadata": {},
   "source": [
    "some_array[-1]"
   ]
  },
  {
   "cell_type": "code",
   "execution_count": 18,
   "id": "873a8335-5dc1-4afb-a2e1-272a9ef3ead7",
   "metadata": {},
   "outputs": [
    {
     "data": {
      "text/plain": [
       "array([2.2, 3.3, 4.4, 5.5, 6.6])"
      ]
     },
     "execution_count": 18,
     "metadata": {},
     "output_type": "execute_result"
    }
   ],
   "source": [
    "some_array[2:7]"
   ]
  },
  {
   "cell_type": "code",
   "execution_count": 19,
   "id": "c8f6eb82-967f-43e0-bfdd-8ee8d6152582",
   "metadata": {},
   "outputs": [],
   "source": [
    "array3d = np.arange(2*3*5).reshape(2,3,5)"
   ]
  },
  {
   "cell_type": "code",
   "execution_count": 20,
   "id": "41a0d224-de2b-4060-9336-95b5a68658bd",
   "metadata": {},
   "outputs": [
    {
     "data": {
      "text/plain": [
       "array([[[ 6,  7,  8,  9],\n",
       "        [11, 12, 13, 14]],\n",
       "\n",
       "       [[21, 22, 23, 24],\n",
       "        [26, 27, 28, 29]]])"
      ]
     },
     "execution_count": 20,
     "metadata": {},
     "output_type": "execute_result"
    }
   ],
   "source": [
    "array3d[:, 1:, 1:]"
   ]
  },
  {
   "cell_type": "code",
   "execution_count": 21,
   "id": "5a80f429-f144-46a8-9bba-951f856b6434",
   "metadata": {},
   "outputs": [
    {
     "data": {
      "text/plain": [
       "array([0. , 1.1, 2.2, 3.3, 4.4, 6.6, 8.8])"
      ]
     },
     "execution_count": 21,
     "metadata": {},
     "output_type": "execute_result"
    }
   ],
   "source": [
    "some_array =np.array([0.0, 1.1, 2.2, 3.3, 4.4, 5.5, 6.6, 7.7, 8.8, 9.9])\n",
    "boolean_array =np.array([True,True,True,True,True,False,True,False,True,False])\n",
    "some_array[boolean_array]"
   ]
  },
  {
   "cell_type": "code",
   "execution_count": 22,
   "id": "d7af247e-f2f7-4f4b-8f00-ba590622a979",
   "metadata": {},
   "outputs": [
    {
     "data": {
      "text/plain": [
       "array([0. , 1.1, 2.2, 3.3, 4.4, 6.6, 8.8])"
      ]
     },
     "execution_count": 22,
     "metadata": {},
     "output_type": "execute_result"
    }
   ],
   "source": [
    "some_array =np.array([0.0, 1.1, 2.2, 3.3, 4.4, 5.5, 6.6, 7.7, 8.8, 9.9])\n",
    "integer_array=np.array([0,1,2,3,4,6,8])\n",
    "\n",
    "some_array[integer_array]"
   ]
  },
  {
   "cell_type": "code",
   "execution_count": 23,
   "id": "8a64ac8f-2782-4eb7-b4e9-351f38ff020f",
   "metadata": {},
   "outputs": [
    {
     "data": {
      "text/plain": [
       "array([4.4, 2.2, 2.2, 2.2, 9.9, 8.8, 3.3])"
      ]
     },
     "execution_count": 23,
     "metadata": {},
     "output_type": "execute_result"
    }
   ],
   "source": [
    "some_array[np.array([4,2,2,2,9,8,3])]"
   ]
  },
  {
   "cell_type": "code",
   "execution_count": 24,
   "id": "45276f35-9a42-40af-97b5-f88b59d31766",
   "metadata": {},
   "outputs": [
    {
     "data": {
      "text/plain": [
       "array([0. , 2.2, 4.4, 6.6, 8.8])"
      ]
     },
     "execution_count": 24,
     "metadata": {},
     "output_type": "execute_result"
    }
   ],
   "source": [
    "even_valued_items =some_array * 10 %2 ==0\n",
    "\n",
    "some_array[even_valued_items]"
   ]
  },
  {
   "cell_type": "code",
   "execution_count": 25,
   "id": "1872d5bc-4fcb-4f90-bbf6-019bd81f7174",
   "metadata": {},
   "outputs": [
    {
     "ename": "NameError",
     "evalue": "name 'muons' is not defined",
     "output_type": "error",
     "traceback": [
      "\u001b[0;31m---------------------------------------------------------------------------\u001b[0m",
      "\u001b[0;31mNameError\u001b[0m                                 Traceback (most recent call last)",
      "Cell \u001b[0;32mIn[25], line 1\u001b[0m\n\u001b[0;32m----> 1\u001b[0m good_muon_cut \u001b[38;5;241m=\u001b[39m (muons\u001b[38;5;241m.\u001b[39mpt \u001b[38;5;241m>\u001b[39m \u001b[38;5;241m10\u001b[39m) \u001b[38;5;241m&\u001b[39m (\u001b[38;5;28mabs\u001b[39m(muons\u001b[38;5;241m.\u001b[39meta) \u001b[38;5;241m<\u001b[39m \u001b[38;5;241m2.4\u001b[39m)\n\u001b[1;32m      2\u001b[0m good_muons \u001b[38;5;241m=\u001b[39m muons[good_muon_cut]\n",
      "\u001b[0;31mNameError\u001b[0m: name 'muons' is not defined"
     ]
    }
   ],
   "source": [
    "good_muon_cut = (muons.pt > 10) & (abs(muons.eta) < 2.4)\n",
    "good_muons = muons[good_muon_cut]"
   ]
  },
  {
   "cell_type": "code",
   "execution_count": 26,
   "id": "e70cb786-9acc-443c-a4fb-e37cda61ba06",
   "metadata": {},
   "outputs": [],
   "source": [
    "even_valued_items = some_array * 10 % 2 ==0"
   ]
  },
  {
   "cell_type": "code",
   "execution_count": 27,
   "id": "0d637dfc-7710-4649-94c9-c8d9fffc3357",
   "metadata": {},
   "outputs": [],
   "source": [
    "even_valued_items = []\n",
    "for x in some_array:\n",
    "    even_valued_items.append(x*10%2==0)"
   ]
  },
  {
   "cell_type": "code",
   "execution_count": 28,
   "id": "b93f3277-201f-410c-b2b6-eec4b8376755",
   "metadata": {},
   "outputs": [],
   "source": [
    "import uproot\n",
    "\n",
    "import skhep_testdata\n",
    "filename = skhep_testdata.data_path(\"uproot-Event.root\")\n",
    "\n",
    "\n",
    "import uproot\n",
    "file = uproot.open(filename)"
   ]
  },
  {
   "cell_type": "code",
   "execution_count": 29,
   "id": "f4005807-0a9d-4702-a2e7-8e722a6ec5ba",
   "metadata": {},
   "outputs": [
    {
     "data": {
      "text/plain": [
       "['ProcessID0;1', 'htime;1', 'T;1', 'hstat;1']"
      ]
     },
     "execution_count": 29,
     "metadata": {},
     "output_type": "execute_result"
    }
   ],
   "source": [
    "file.keys()"
   ]
  },
  {
   "cell_type": "code",
   "execution_count": 30,
   "id": "73d8d6f7-d3e4-4dfb-a8de-92230423912e",
   "metadata": {},
   "outputs": [
    {
     "data": {
      "text/plain": [
       "{'ProcessID0;1': 'TProcessID',\n",
       " 'htime;1': 'TH1F',\n",
       " 'T;1': 'TTree',\n",
       " 'hstat;1': 'TH1F'}"
      ]
     },
     "execution_count": 30,
     "metadata": {},
     "output_type": "execute_result"
    }
   ],
   "source": [
    "file.classnames()"
   ]
  },
  {
   "cell_type": "code",
   "execution_count": 31,
   "id": "277021d1-9eff-4ee6-99f1-816f3fc2856b",
   "metadata": {},
   "outputs": [
    {
     "data": {
      "text/plain": [
       "<TH1F (version 2) at 0x0001061ae0d0>"
      ]
     },
     "execution_count": 31,
     "metadata": {},
     "output_type": "execute_result"
    }
   ],
   "source": [
    "h=file[\"hstat\"]\n",
    "h"
   ]
  },
  {
   "cell_type": "code",
   "execution_count": 32,
   "id": "002bf1ed-b54c-4805-a4b1-08714d49eaf9",
   "metadata": {},
   "outputs": [
    {
     "data": {
      "text/plain": [
       "[StairsArtists(stairs=<matplotlib.patches.StepPatch object at 0x134ca6050>, errorbar=<ErrorbarContainer object of 3 artists>, legend_artist=<ErrorbarContainer object of 3 artists>)]"
      ]
     },
     "execution_count": 32,
     "metadata": {},
     "output_type": "execute_result"
    },
    {
     "data": {
      "image/png": "[encoded data removed]",
      "text/plain": [
       "<Figure size 640x480 with 1 Axes>"
      ]
     },
     "metadata": {},
     "output_type": "display_data"
    }
   ],
   "source": [
    "h.to_hist().plot()"
   ]
  },
  {
   "cell_type": "code",
   "execution_count": 33,
   "id": "14974601-f046-4c30-ad73-81c910cf2b2d",
   "metadata": {},
   "outputs": [
    {
     "data": {
      "text/plain": [
       "array([0.  , 0.01, 0.02, 0.03, 0.04, 0.05, 0.06, 0.07, 0.08, 0.09, 0.1 ,\n",
       "       0.11, 0.12, 0.13, 0.14, 0.15, 0.16, 0.17, 0.18, 0.19, 0.2 , 0.21,\n",
       "       0.22, 0.23, 0.24, 0.25, 0.26, 0.27, 0.28, 0.29, 0.3 , 0.31, 0.32,\n",
       "       0.33, 0.34, 0.35, 0.36, 0.37, 0.38, 0.39, 0.4 , 0.41, 0.42, 0.43,\n",
       "       0.44, 0.45, 0.46, 0.47, 0.48, 0.49, 0.5 , 0.51, 0.52, 0.53, 0.54,\n",
       "       0.55, 0.56, 0.57, 0.58, 0.59, 0.6 , 0.61, 0.62, 0.63, 0.64, 0.65,\n",
       "       0.66, 0.67, 0.68, 0.69, 0.7 , 0.71, 0.72, 0.73, 0.74, 0.75, 0.76,\n",
       "       0.77, 0.78, 0.79, 0.8 , 0.81, 0.82, 0.83, 0.84, 0.85, 0.86, 0.87,\n",
       "       0.88, 0.89, 0.9 , 0.91, 0.92, 0.93, 0.94, 0.95, 0.96, 0.97, 0.98,\n",
       "       0.99, 1.  ])"
      ]
     },
     "execution_count": 33,
     "metadata": {},
     "output_type": "execute_result"
    }
   ],
   "source": [
    "h.values()\n",
    "h.variances()\n",
    "h.axis(\"x\").edges() # \"x\", \"y\", \"z\", or 0,1,2"
   ]
  },
  {
   "cell_type": "code",
   "execution_count": 34,
   "id": "3b268e8b-d0dd-4b35-92f7-86d8f9d279f5",
   "metadata": {},
   "outputs": [
    {
     "name": "stdout",
     "output_type": "stream",
     "text": [
      "name                 | typename                 | interpretation                \n",
      "---------------------+--------------------------+-------------------------------\n",
      "event                | Event                    | AsGroup(<TBranchElement 'ev...\n",
      "event/TObject        | (group of fUniqueID:u... | AsGroup(<TBranchElement 'TO...\n",
      "event/TObject/fUn... | uint32_t                 | AsDtype('>u4')\n",
      "event/TObject/fBits  | uint32_t                 | AsDtype('>u4')\n",
      "event/fType[20]      | int8_t[20]               | AsDtype(\"('i1', (20,))\")\n",
      "event/fEventName     | char*                    | AsStrings(length_bytes='4')\n",
      "event/fNtrack        | int32_t                  | AsDtype('>i4')\n",
      "event/fNseg          | int32_t                  | AsDtype('>i4')\n",
      "event/fNvertex       | uint32_t                 | AsDtype('>u4')\n",
      "event/fFlag          | uint32_t                 | AsDtype('>u4')\n",
      "event/fTemperature   | float                    | AsDtype('>f4', 'float64')\n",
      "event/fMeasures[10]  | int32_t[10]              | AsDtype(\"('>i4', (10,))\")\n",
      "event/fMatrix[4][4]  | float[4][4]              | AsDtype(\"('>f4', (4, 4))\", ...\n",
      "event/fClosestDis... | unknown[]                | AsObjects(AsArray(False, Tr...\n",
      "event/fEvtHdr        | EventHeader              | AsGroup(<TBranchElement 'fE...\n",
      "event/fEvtHdr/fEv... | int32_t                  | AsDtype('>i4')\n",
      "event/fEvtHdr/fEv... | int32_t                  | AsDtype('>i4')\n",
      "event/fEvtHdr/fEv... | int32_t                  | AsDtype('>i4')\n",
      "event/fTracks        | TClonesArray*            | AsGroup(<TBranchElement 'fT...\n",
      "event/fTracks/fTr... | uint32_t[]               | AsJagged(AsDtype('>u4'))\n",
      "event/fTracks/fTr... | uint32_t[]               | AsJagged(AsDtype('>u4'))\n",
      "event/fTracks/fTr... | float[]                  | AsJagged(AsDtype('>f4'))\n",
      "event/fTracks/fTr... | float[]                  | AsJagged(AsDtype('>f4'))\n",
      "event/fTracks/fTr... | float[]                  | AsJagged(AsDtype('>f4'))\n",
      "event/fTracks/fTr... | float[]                  | AsJagged(AsDtype('>f4'))\n",
      "event/fTracks/fTr... | Float16_t[]              | AsJagged(AsFloat16(0.0, 0.0...\n",
      "event/fTracks/fTr... | Float16_t[]              | AsJagged(AsFloat16(0.0, 0.0...\n",
      "event/fTracks/fTr... | Float16_t[]              | AsJagged(AsFloat16(0.0, 0.0...\n",
      "event/fTracks/fTr... | float[]                  | AsJagged(AsDtype('>f4'))\n",
      "event/fTracks/fTr... | Float16_t[]              | AsJagged(AsFloat16(0, 0, 12))\n",
      "event/fTracks/fTr... | Float16_t[]              | AsJagged(AsFloat16(0, 0, 12))\n",
      "event/fTracks/fTr... | Float16_t[]              | AsJagged(AsFloat16(0, 0, 12))\n",
      "event/fTracks/fTr... | Float16_t[]              | AsJagged(AsFloat16(0, 0, 12))\n",
      "event/fTracks/fTr... | Float16_t[]              | AsJagged(AsFloat16(0, 0, 12))\n",
      "event/fTracks/fTr... | Float16_t[]              | AsJagged(AsFloat16(0, 0, 12))\n",
      "event/fTracks/fTr... | Double32_t[]             | AsJagged(AsDouble32(-1.0, 1...\n",
      "event/fTracks/fTr... | Double32_t[][3]          | AsJagged(AsDouble32(-30.0, ...\n",
      "event/fTracks/fTr... | int32_t[]                | AsJagged(AsDtype('>i4'))\n",
      "event/fTracks/fTr... | int16_t[]                | AsJagged(AsDtype('>i2'))\n",
      "event/fTracks/fTr... | uint32_t[]               | AsJagged(AsDtype('>u4'))\n",
      "event/fTracks/fTr... | unknown[][]              | AsObjects(AsArray(True, Fal...\n",
      "event/fTracks/fTr... | uint32_t[]               | AsJagged(AsDtype('>u4'))\n",
      "event/fTracks/fTr... | uint32_t[]               | AsJagged(AsDtype('>u4'))\n",
      "event/fTracks/fTr... | uint32_t[]               | AsJagged(AsDtype('>u4'))\n",
      "event/fTracks/fTr... | uint32_t[]               | AsJagged(AsDtype('>u4'))\n",
      "event/fTracks/fTr... | uint8_t[][]              | AsObjects(AsArray(True, Fal...\n",
      "event/fTracks/fTr... | float[][3]               | AsJagged(AsDtype(\"('>f4', (...\n",
      "event/fHighPt        | TRefArray*               | AsObjects(AsPointer(Model_T...\n",
      "event/fMuons         | TRefArray*               | AsObjects(AsPointer(Model_T...\n",
      "event/fLastTrack     | TRef                     | AsStridedObjects(Model_TRef)\n",
      "event/fWebHistogram  | TRef                     | AsStridedObjects(Model_TRef)\n",
      "event/fH             | TH1F                     | AsObjects(Model_TH1F)\n",
      "event/fTriggerBits   | TBits                    | AsGroup(<TBranchElement 'fT...\n",
      "event/fTriggerBit... | (group of fTriggerBit... | AsGroup(<TBranchElement 'fT...\n",
      "event/fTriggerBit... | uint32_t                 | AsDtype('>u4')\n",
      "event/fTriggerBit... | uint32_t                 | AsDtype('>u4')\n",
      "event/fTriggerBit... | uint32_t                 | AsDtype('>u4')\n",
      "event/fTriggerBit... | uint32_t                 | AsDtype('>u4')\n",
      "event/fTriggerBit... | uint8_t[]                | AsJagged(AsDtype('uint8'), ...\n",
      "event/fIsValid       | bool                     | AsDtype('bool')\n"
     ]
    }
   ],
   "source": [
    "t=file[\"T\"]\n",
    "t.show()"
   ]
  },
  {
   "cell_type": "code",
   "execution_count": 35,
   "id": "db913074-0c19-4dd3-8759-9590830499b5",
   "metadata": {},
   "outputs": [
    {
     "data": {
      "text/plain": [
       "AsDtype('>i4')"
      ]
     },
     "execution_count": 35,
     "metadata": {},
     "output_type": "execute_result"
    }
   ],
   "source": [
    "t.keys()\n",
    "t[\"event/fNtrack\"]\n",
    "t[\"event/fNtrack\"].typename\n",
    "t[\"event/fNtrack\"].interpretation"
   ]
  },
  {
   "cell_type": "code",
   "execution_count": 36,
   "id": "a21a630a-4aab-4e3e-b9b0-e32866ddb86a",
   "metadata": {},
   "outputs": [
    {
     "data": {
      "text/html": [
       "<pre>[600,\n",
       " 604,\n",
       " 603,\n",
       " 594,\n",
       " 595,\n",
       " 598,\n",
       " 595,\n",
       " 600,\n",
       " 592,\n",
       " 598,\n",
       " ...,\n",
       " 603,\n",
       " 605,\n",
       " 609,\n",
       " 599,\n",
       " 587,\n",
       " 598,\n",
       " 600,\n",
       " 596,\n",
       " 593]\n",
       "------------------\n",
       "type: 1000 * int32</pre>"
      ],
      "text/plain": [
       "<Array [600, 604, 603, 594, 595, ..., 598, 600, 596, 593] type='1000 * int32'>"
      ]
     },
     "execution_count": 36,
     "metadata": {},
     "output_type": "execute_result"
    }
   ],
   "source": [
    "t[\"event/fNtrack\"].array()"
   ]
  },
  {
   "cell_type": "code",
   "execution_count": 37,
   "id": "62841e9b-c4f1-4309-a3e5-7f9e4ba7ccd3",
   "metadata": {},
   "outputs": [
    {
     "data": {
      "text/plain": [
       "{'@fUniqueID': 0,\n",
       " '@fBits': 50331648,\n",
       " 'fName': 'ProcessID0',\n",
       " 'fTitle': '3ec87674-3aa2-11e9-bb02-0301a8c0beef'}"
      ]
     },
     "execution_count": 37,
     "metadata": {},
     "output_type": "execute_result"
    }
   ],
   "source": [
    "file[\"ProcessID0\"]\n",
    "file[\"ProcessID0\"].all_members"
   ]
  },
  {
   "cell_type": "code",
   "execution_count": 38,
   "id": "4551a5a3-daf4-4667-9359-2fdf97278de3",
   "metadata": {},
   "outputs": [
    {
     "data": {
      "text/plain": [
       "<STLMap {46612627560: 896, ..., 281410180683757: 2689} at 0x0001420d5750>"
      ]
     },
     "execution_count": 38,
     "metadata": {},
     "output_type": "execute_result"
    }
   ],
   "source": [
    "icecube = uproot.open(skhep_testdata.data_path(\"uproot-issue283.root\"))\n",
    "icecube.classnames()\n",
    "\n",
    "icecube[\"config/detector\"].all_members\n",
    "icecube[\"config/detector\"].all_members[\"ChannelIDMap\"]\n",
    "                      "
   ]
  },
  {
   "cell_type": "code",
   "execution_count": 39,
   "id": "f30fa4af-e3db-4233-85e1-5518d7ef0f87",
   "metadata": {},
   "outputs": [
    {
     "ename": "OSError",
     "evalue": "could not read 63 bytes from the file at position 0\n\nin path: /Users/kimgeonwoo/existing-file.root",
     "output_type": "error",
     "traceback": [
      "\u001b[0;31m---------------------------------------------------------------------------\u001b[0m",
      "\u001b[0;31mOSError\u001b[0m                                   Traceback (most recent call last)",
      "Cell \u001b[0;32mIn[39], line 2\u001b[0m\n\u001b[1;32m      1\u001b[0m output1 \u001b[38;5;241m=\u001b[39m uproot\u001b[38;5;241m.\u001b[39mrecreate(\u001b[38;5;124m\"\u001b[39m\u001b[38;5;124mcompletely-new-file.root\u001b[39m\u001b[38;5;124m\"\u001b[39m)\n\u001b[0;32m----> 2\u001b[0m output2 \u001b[38;5;241m=\u001b[39m uproot\u001b[38;5;241m.\u001b[39mupdate(\u001b[38;5;124m\"\u001b[39m\u001b[38;5;124mexisting-file.root\u001b[39m\u001b[38;5;124m\"\u001b[39m)\n",
      "File \u001b[0;32m/opt/anaconda3/lib/python3.11/site-packages/uproot/writing/writable.py:177\u001b[0m, in \u001b[0;36mupdate\u001b[0;34m(file_path, **options)\u001b[0m\n\u001b[1;32m    171\u001b[0m \u001b[38;5;28;01mif\u001b[39;00m options:\n\u001b[1;32m    172\u001b[0m     \u001b[38;5;28;01mraise\u001b[39;00m \u001b[38;5;167;01mTypeError\u001b[39;00m(\n\u001b[1;32m    173\u001b[0m         \u001b[38;5;124m\"\u001b[39m\u001b[38;5;124munrecognized options for uproot.update: \u001b[39m\u001b[38;5;124m\"\u001b[39m\n\u001b[1;32m    174\u001b[0m         \u001b[38;5;241m+\u001b[39m \u001b[38;5;124m\"\u001b[39m\u001b[38;5;124m, \u001b[39m\u001b[38;5;124m\"\u001b[39m\u001b[38;5;241m.\u001b[39mjoin(\u001b[38;5;28mrepr\u001b[39m(x) \u001b[38;5;28;01mfor\u001b[39;00m x \u001b[38;5;129;01min\u001b[39;00m options)\n\u001b[1;32m    175\u001b[0m     )\n\u001b[0;32m--> 177\u001b[0m cascading \u001b[38;5;241m=\u001b[39m uproot\u001b[38;5;241m.\u001b[39mwriting\u001b[38;5;241m.\u001b[39m_cascade\u001b[38;5;241m.\u001b[39mupdate_existing(\n\u001b[1;32m    178\u001b[0m     sink,\n\u001b[1;32m    179\u001b[0m     initial_directory_bytes,\n\u001b[1;32m    180\u001b[0m     uuid_function,\n\u001b[1;32m    181\u001b[0m )\n\u001b[1;32m    182\u001b[0m \u001b[38;5;28;01mreturn\u001b[39;00m WritableFile(\n\u001b[1;32m    183\u001b[0m     sink, cascading, initial_directory_bytes, uuid_function\n\u001b[1;32m    184\u001b[0m )\u001b[38;5;241m.\u001b[39mroot_directory\n",
      "File \u001b[0;32m/opt/anaconda3/lib/python3.11/site-packages/uproot/writing/_cascade.py:2367\u001b[0m, in \u001b[0;36mupdate_existing\u001b[0;34m(sink, initial_directory_bytes, uuid_function)\u001b[0m\n\u001b[1;32m   2360\u001b[0m \u001b[38;5;28;01mdef\u001b[39;00m \u001b[38;5;21mupdate_existing\u001b[39m(sink, initial_directory_bytes, uuid_function):\n\u001b[1;32m   2361\u001b[0m \u001b[38;5;250m    \u001b[39m\u001b[38;5;124;03m\"\"\"\u001b[39;00m\n\u001b[1;32m   2362\u001b[0m \u001b[38;5;124;03m    Function to derive a :doc:`uproot.writing._cascade.CascadingFile` from an existing\u001b[39;00m\n\u001b[1;32m   2363\u001b[0m \u001b[38;5;124;03m    file.\u001b[39;00m\n\u001b[1;32m   2364\u001b[0m \n\u001b[1;32m   2365\u001b[0m \u001b[38;5;124;03m    This function *does* write to the file, overwriting the TStreamerInfo.\u001b[39;00m\n\u001b[1;32m   2366\u001b[0m \u001b[38;5;124;03m    \"\"\"\u001b[39;00m\n\u001b[0;32m-> 2367\u001b[0m     raw_bytes \u001b[38;5;241m=\u001b[39m sink\u001b[38;5;241m.\u001b[39mread(\n\u001b[1;32m   2368\u001b[0m         \u001b[38;5;241m0\u001b[39m,\n\u001b[1;32m   2369\u001b[0m         uproot\u001b[38;5;241m.\u001b[39mreading\u001b[38;5;241m.\u001b[39m_file_header_fields_big\u001b[38;5;241m.\u001b[39msize,\n\u001b[1;32m   2370\u001b[0m         insist\u001b[38;5;241m=\u001b[39muproot\u001b[38;5;241m.\u001b[39mreading\u001b[38;5;241m.\u001b[39m_file_header_fields_small\u001b[38;5;241m.\u001b[39msize,\n\u001b[1;32m   2371\u001b[0m     )\n\u001b[1;32m   2372\u001b[0m     \u001b[38;5;28;01mif\u001b[39;00m raw_bytes[:\u001b[38;5;241m4\u001b[39m] \u001b[38;5;241m!=\u001b[39m \u001b[38;5;124mb\u001b[39m\u001b[38;5;124m\"\u001b[39m\u001b[38;5;124mroot\u001b[39m\u001b[38;5;124m\"\u001b[39m:\n\u001b[1;32m   2373\u001b[0m         \u001b[38;5;28;01mraise\u001b[39;00m \u001b[38;5;167;01mValueError\u001b[39;00m(\n\u001b[1;32m   2374\u001b[0m             \u001b[38;5;124mf\u001b[39m\u001b[38;5;124m\"\u001b[39m\u001b[38;5;124mnot a ROOT file: first four bytes are \u001b[39m\u001b[38;5;132;01m{\u001b[39;00mraw_bytes[:\u001b[38;5;241m4\u001b[39m]\u001b[38;5;132;01m!r}\u001b[39;00m\u001b[38;5;132;01m{\u001b[39;00msink\u001b[38;5;241m.\u001b[39min_path\u001b[38;5;132;01m}\u001b[39;00m\u001b[38;5;124m\"\u001b[39m\n\u001b[1;32m   2375\u001b[0m         )\n",
      "File \u001b[0;32m/opt/anaconda3/lib/python3.11/site-packages/uproot/sink/file.py:204\u001b[0m, in \u001b[0;36mFileSink.read\u001b[0;34m(self, location, num_bytes, insist)\u001b[0m\n\u001b[1;32m    200\u001b[0m         \u001b[38;5;28;01mraise\u001b[39;00m \u001b[38;5;167;01mOSError\u001b[39;00m(\n\u001b[1;32m    201\u001b[0m             \u001b[38;5;124mf\u001b[39m\u001b[38;5;124m\"\u001b[39m\u001b[38;5;124mcould not read \u001b[39m\u001b[38;5;132;01m{\u001b[39;00mnum_bytes\u001b[38;5;132;01m}\u001b[39;00m\u001b[38;5;124m bytes from the file at position \u001b[39m\u001b[38;5;132;01m{\u001b[39;00mlocation\u001b[38;5;132;01m}\u001b[39;00m\u001b[38;5;132;01m{\u001b[39;00m\u001b[38;5;28mself\u001b[39m\u001b[38;5;241m.\u001b[39min_path\u001b[38;5;132;01m}\u001b[39;00m\u001b[38;5;124m\"\u001b[39m\n\u001b[1;32m    202\u001b[0m         )\n\u001b[1;32m    203\u001b[0m \u001b[38;5;28;01melif\u001b[39;00m \u001b[38;5;28misinstance\u001b[39m(insist, numbers\u001b[38;5;241m.\u001b[39mIntegral) \u001b[38;5;129;01mand\u001b[39;00m \u001b[38;5;28mlen\u001b[39m(out) \u001b[38;5;241m<\u001b[39m insist:\n\u001b[0;32m--> 204\u001b[0m     \u001b[38;5;28;01mraise\u001b[39;00m \u001b[38;5;167;01mOSError\u001b[39;00m(\n\u001b[1;32m    205\u001b[0m         \u001b[38;5;124mf\u001b[39m\u001b[38;5;124m\"\u001b[39m\u001b[38;5;124mcould not read \u001b[39m\u001b[38;5;132;01m{\u001b[39;00minsist\u001b[38;5;132;01m}\u001b[39;00m\u001b[38;5;124m bytes from the file at position \u001b[39m\u001b[38;5;132;01m{\u001b[39;00mlocation\u001b[38;5;132;01m}\u001b[39;00m\u001b[38;5;132;01m{\u001b[39;00m\u001b[38;5;28mself\u001b[39m\u001b[38;5;241m.\u001b[39min_path\u001b[38;5;132;01m}\u001b[39;00m\u001b[38;5;124m\"\u001b[39m\n\u001b[1;32m    206\u001b[0m     )\n\u001b[1;32m    207\u001b[0m \u001b[38;5;28;01mreturn\u001b[39;00m out\n",
      "\u001b[0;31mOSError\u001b[0m: could not read 63 bytes from the file at position 0\n\nin path: /Users/kimgeonwoo/existing-file.root"
     ]
    }
   ],
   "source": [
    "output1 = uproot.recreate(\"completely-new-file.root\")\n",
    "output2 = uproot.update(\"existing-file.root\")"
   ]
  },
  {
   "cell_type": "code",
   "execution_count": 40,
   "id": "51e4a75e-2d16-4c57-a82f-1e4056f8d707",
   "metadata": {},
   "outputs": [],
   "source": [
    "output1[\"some_string\"] = \"This will be a TObjString.\"\n",
    "output1[\"some_histogram\"] =file[\"hstat\"]\n",
    "import numpy as np\n",
    "output1[\"nested_directory/another_histogram\"] = np.histogram(np.random.normal(0,1,1000000))"
   ]
  },
  {
   "cell_type": "code",
   "execution_count": 41,
   "id": "70027d59-7ba4-40a9-ac40-9f403c6f0771",
   "metadata": {},
   "outputs": [],
   "source": [
    "import numpy as np\n",
    "output1[\"tree1\"] = { \n",
    "    \"x\": np.random.randint(0,10,1000000),\n",
    "    \"y\": np.random.normal(0,1,1000000),}\n",
    "output1[\"tree1\"].extend({\"x\":np.random.randint(0,10,1000000), \"y\":np.random.normal(0,1,1000000)})\n",
    "output1[\"tree1\"].extend({\"x\":np.random.randint(0,10,1000000), \"y\":np.random.normal(0,1,1000000)})"
   ]
  },
  {
   "cell_type": "code",
   "execution_count": 42,
   "id": "02314ab5-40cc-46a5-839e-88164036fd32",
   "metadata": {},
   "outputs": [],
   "source": [
    "output1.mktree(\"tree2\", {\"x\": np.int32, \"y\": np.float64})\n",
    "output1[\"tree2\"].extend(\n",
    "    {\"x\": np.random.randint(0, 10, 1000000), \"y\": np.random.normal(0, 1, 1000000)}\n",
    ")\n",
    "output1[\"tree2\"].extend(\n",
    "    {\"x\": np.random.randint(0, 10, 1000000), \"y\": np.random.normal(0, 1, 1000000)}\n",
    ")\n",
    "output1[\"tree2\"].extend(\n",
    "    {\"x\": np.random.randint(0, 10, 1000000), \"y\": np.random.normal(0, 1, 1000000)}\n",
    ")"
   ]
  },
  {
   "cell_type": "code",
   "execution_count": null,
   "id": "58ef5c54-83d5-4b64-9036-1a04f01da56f",
   "metadata": {},
   "outputs": [],
   "source": [
    "! pip install fsspec-xrootd"
   ]
  },
  {
   "cell_type": "code",
   "execution_count": 43,
   "id": "8e0e2c04-5a73-4592-9ee1-d53a313304ee",
   "metadata": {},
   "outputs": [
    {
     "data": {
      "text/plain": [
       "{'Events;75': 'TTree', 'Events;74': 'TTree'}"
      ]
     },
     "execution_count": 43,
     "metadata": {},
     "output_type": "execute_result"
    }
   ],
   "source": [
    "import uproot\n",
    "\n",
    "file = uproot.open(\n",
    "    \"root://eospublic.cern.ch//eos/opendata/cms/derived-data/AOD2NanoAODOutreachTool/Run2012BC_DoubleMuParked_Muons.root\"\n",
    ")\n",
    "file.classnames()"
   ]
  },
  {
   "cell_type": "code",
   "execution_count": 44,
   "id": "95c942f9-d6eb-4a31-bfdb-8ef53cd570d0",
   "metadata": {},
   "outputs": [
    {
     "name": "stdout",
     "output_type": "stream",
     "text": [
      "name                 | typename                 | interpretation                \n",
      "---------------------+--------------------------+-------------------------------\n",
      "nMuon                | uint32_t                 | AsDtype('>u4')\n",
      "Muon_pt              | float[]                  | AsJagged(AsDtype('>f4'))\n",
      "Muon_eta             | float[]                  | AsJagged(AsDtype('>f4'))\n",
      "Muon_phi             | float[]                  | AsJagged(AsDtype('>f4'))\n",
      "Muon_mass            | float[]                  | AsJagged(AsDtype('>f4'))\n",
      "Muon_charge          | int32_t[]                | AsJagged(AsDtype('>i4'))\n"
     ]
    }
   ],
   "source": [
    "tree = file[\"Events\"]\n",
    "tree.show()"
   ]
  },
  {
   "cell_type": "code",
   "execution_count": 45,
   "id": "bc2cbd4f-5bed-4837-8f5d-7845e5254742",
   "metadata": {},
   "outputs": [
    {
     "data": {
      "text/html": [
       "<pre>[2,\n",
       " 2,\n",
       " 1,\n",
       " 4,\n",
       " 4,\n",
       " 3,\n",
       " 2,\n",
       " 2,\n",
       " 2,\n",
       " 2,\n",
       " ...,\n",
       " 2,\n",
       " 2,\n",
       " 2,\n",
       " 3,\n",
       " 2,\n",
       " 2,\n",
       " 4,\n",
       " 3,\n",
       " 2]\n",
       "-----------------------\n",
       "type: 61540413 * uint32</pre>"
      ],
      "text/plain": [
       "<Array [2, 2, 1, 4, 4, 3, 2, ..., 2, 3, 2, 2, 4, 3, 2] type='61540413 * uint32'>"
      ]
     },
     "execution_count": 45,
     "metadata": {},
     "output_type": "execute_result"
    }
   ],
   "source": [
    "tree[\"nMuon\"].array()"
   ]
  },
  {
   "cell_type": "code",
   "execution_count": 46,
   "id": "fa4652e6-61b6-4458-bc40-d64335ae8e3a",
   "metadata": {},
   "outputs": [
    {
     "data": {
      "text/html": [
       "<pre>[2,\n",
       " 2,\n",
       " 2,\n",
       " 2,\n",
       " 2,\n",
       " 2,\n",
       " 2,\n",
       " 2,\n",
       " 1,\n",
       " 2,\n",
       " ...,\n",
       " 2,\n",
       " 2,\n",
       " 2,\n",
       " 4,\n",
       " 4,\n",
       " 1,\n",
       " 3,\n",
       " 4,\n",
       " 3]\n",
       "-------------------\n",
       "type: 1000 * uint32</pre>"
      ],
      "text/plain": [
       "<Array [2, 2, 2, 2, 2, 2, 2, 2, ..., 2, 4, 4, 1, 3, 4, 3] type='1000 * uint32'>"
      ]
     },
     "execution_count": 46,
     "metadata": {},
     "output_type": "execute_result"
    }
   ],
   "source": [
    "tree[\"nMuon\"].array(entry_start=1000, entry_stop=2000)"
   ]
  },
  {
   "cell_type": "code",
   "execution_count": 49,
   "id": "dd5beec3-99af-4a1f-94cc-782c5b9434e2",
   "metadata": {},
   "outputs": [
    {
     "data": {
      "text/html": [
       "<pre>[{Muon_pt: [10.8, 15.7], Muon_eta: [1.07, -0.564], Muon_phi: [...], ...},\n",
       " {Muon_pt: [10.5, 16.3], Muon_eta: [-0.428, ...], Muon_phi: [...], ...},\n",
       " {Muon_pt: [3.28], Muon_eta: [2.21], Muon_phi: [-1.22], Muon_mass: ..., ...},\n",
       " {Muon_pt: [11.4, 17.6, 9.62, 3.5], Muon_eta: [-1.59, ...], Muon_phi: ..., ...},\n",
       " {Muon_pt: [3.28, 3.64, 32.9, 23.7], Muon_eta: [-2.17, ...], ...},\n",
       " {Muon_pt: [3.57, 4.57, 4.37], Muon_eta: [-1.37, ...], Muon_phi: [...], ...},\n",
       " {Muon_pt: [57.6, 53], Muon_eta: [-0.532, -1], Muon_phi: [...], ...},\n",
       " {Muon_pt: [11.3, 23.9], Muon_eta: [-0.772, ...], Muon_phi: [...], ...},\n",
       " {Muon_pt: [10.2, 14.2], Muon_eta: [0.442, 0.702], Muon_phi: [...], ...},\n",
       " {Muon_pt: [11.5, 3.47], Muon_eta: [2.34, 2.35], Muon_phi: [...], ...},\n",
       " ...,\n",
       " {Muon_pt: [3.13, 16.9, 11], Muon_eta: [-1.43, ...], Muon_phi: [...], ...},\n",
       " {Muon_pt: [34.2, 14], Muon_eta: [-0.913, ...], Muon_phi: [...], ...},\n",
       " {Muon_pt: [14, 8.19], Muon_eta: [-0.409, ...], Muon_phi: [...], ...},\n",
       " {Muon_pt: [30.6], Muon_eta: [0.696], Muon_phi: [-1.95], Muon_mass: ..., ...},\n",
       " {Muon_pt: [22.1, 12.9, 13.4], Muon_eta: [1.97, ...], Muon_phi: [...], ...},\n",
       " {Muon_pt: [10.1, 4.34], Muon_eta: [0.833, 1.95], Muon_phi: [...], ...},\n",
       " {Muon_pt: [4.36, 15.1, 12.4], Muon_eta: [1.05, ...], Muon_phi: [...], ...},\n",
       " {Muon_pt: [17.7, 4.61, 8.79, 5.14], Muon_eta: [0.587, ...], ...},\n",
       " {Muon_pt: [28.9, 8.62, 4.51], Muon_eta: [0.917, ...], Muon_phi: [...], ...}]\n",
       "--------------------------------------------------------------------------------\n",
       "type: 1000 * {\n",
       "    Muon_pt: var * float32,\n",
       "    Muon_eta: var * float32,\n",
       "    Muon_phi: var * float32,\n",
       "    Muon_mass: var * float32,\n",
       "    Muon_charge: var * int32\n",
       "}</pre>"
      ],
      "text/plain": [
       "<Array [{Muon_pt: [...], ...}, ..., {...}] type='1000 * {Muon_pt: var * flo...'>"
      ]
     },
     "execution_count": 49,
     "metadata": {},
     "output_type": "execute_result"
    }
   ],
   "source": [
    "muons = tree.arrays(\n",
    "    [\"Muon_pt\", \"Muon_eta\", \"Muon_phi\", \"Muon_mass\", \"Muon_charge\"], entry_stop=1000\n",
    ")\n",
    "muons"
   ]
  },
  {
   "cell_type": "code",
   "execution_count": 48,
   "id": "b90219ff-8cf6-4597-b01a-db5c6609f76c",
   "metadata": {},
   "outputs": [
    {
     "data": {
      "text/html": [
       "<pre>[[-0.0343, 2.54],\n",
       " [-0.275, 2.54],\n",
       " [-1.22],\n",
       " [-2.08, 0.251, -2.01, -1.85],\n",
       " [-2.37, -2.31, -0.975, -0.773],\n",
       " [-2.91, 2.46, -3.06],\n",
       " [-0.0718, 3.09],\n",
       " [-2.25, -2.18],\n",
       " [0.678, -2.03],\n",
       " [3.13, 3.02],\n",
       " ...,\n",
       " [-1.85, -1.34, -1.31],\n",
       " [-0.607, -0.493],\n",
       " [-0.855, 0.0452],\n",
       " [-1.95],\n",
       " [0.327, -2.64, -2.63],\n",
       " [-1.54, -0.078],\n",
       " [2.11, -2.16, 2.13],\n",
       " [-0.133, -2.39, -0.225, -1.42],\n",
       " [2.08, -1.63, -1.47]]\n",
       "--------------------------------\n",
       "type: 1000 * var * float32</pre>"
      ],
      "text/plain": [
       "<Array [[-0.0343, 2.54], ..., [2.08, ..., -1.47]] type='1000 * var * float32'>"
      ]
     },
     "execution_count": 48,
     "metadata": {},
     "output_type": "execute_result"
    }
   ],
   "source": [
    "muons[\"Muon_pt\"]\n",
    "muons[\"Muon_eta\"]\n",
    "muons[\"Muon_phi\"]  # etc."
   ]
  },
  {
   "cell_type": "code",
   "execution_count": 50,
   "id": "2253b7c7-b123-4149-ba78-13412b3cd9a9",
   "metadata": {},
   "outputs": [
    {
     "ename": "OSError",
     "evalue": "File did not vector_read properly: [ERROR] Operation expired",
     "output_type": "error",
     "traceback": [
      "\u001b[0;31m---------------------------------------------------------------------------\u001b[0m",
      "\u001b[0;31mOSError\u001b[0m                                   Traceback (most recent call last)",
      "Cell \u001b[0;32mIn[50], line 1\u001b[0m\n\u001b[0;32m----> 1\u001b[0m everything \u001b[38;5;241m=\u001b[39m tree\u001b[38;5;241m.\u001b[39marrays()\n",
      "File \u001b[0;32m/opt/anaconda3/lib/python3.11/site-packages/uproot/behaviors/TBranch.py:823\u001b[0m, in \u001b[0;36mHasBranches.arrays\u001b[0;34m(self, expressions, cut, filter_name, filter_typename, filter_branch, aliases, language, entry_start, entry_stop, decompression_executor, interpretation_executor, array_cache, library, ak_add_doc, how)\u001b[0m\n\u001b[1;32m    820\u001b[0m                 ranges_or_baskets\u001b[38;5;241m.\u001b[39mappend((branch, basket_num, range_or_basket))\n\u001b[1;32m    822\u001b[0m interp_options \u001b[38;5;241m=\u001b[39m {\u001b[38;5;124m\"\u001b[39m\u001b[38;5;124mak_add_doc\u001b[39m\u001b[38;5;124m\"\u001b[39m: ak_add_doc}\n\u001b[0;32m--> 823\u001b[0m _ranges_or_baskets_to_arrays(\n\u001b[1;32m    824\u001b[0m     \u001b[38;5;28mself\u001b[39m,\n\u001b[1;32m    825\u001b[0m     ranges_or_baskets,\n\u001b[1;32m    826\u001b[0m     branchid_interpretation,\n\u001b[1;32m    827\u001b[0m     entry_start,\n\u001b[1;32m    828\u001b[0m     entry_stop,\n\u001b[1;32m    829\u001b[0m     decompression_executor,\n\u001b[1;32m    830\u001b[0m     interpretation_executor,\n\u001b[1;32m    831\u001b[0m     library,\n\u001b[1;32m    832\u001b[0m     arrays,\n\u001b[1;32m    833\u001b[0m     \u001b[38;5;28;01mFalse\u001b[39;00m,\n\u001b[1;32m    834\u001b[0m     interp_options,\n\u001b[1;32m    835\u001b[0m )\n\u001b[1;32m    837\u001b[0m \u001b[38;5;66;03m# no longer needed; save memory\u001b[39;00m\n\u001b[1;32m    838\u001b[0m \u001b[38;5;28;01mdel\u001b[39;00m ranges_or_baskets\n",
      "File \u001b[0;32m/opt/anaconda3/lib/python3.11/site-packages/uproot/behaviors/TBranch.py:3105\u001b[0m, in \u001b[0;36m_ranges_or_baskets_to_arrays\u001b[0;34m(hasbranches, ranges_or_baskets, branchid_interpretation, entry_start, entry_stop, decompression_executor, interpretation_executor, library, arrays, update_ranges_or_baskets, interp_options)\u001b[0m\n\u001b[1;32m   3102\u001b[0m     \u001b[38;5;28;01mpass\u001b[39;00m\n\u001b[1;32m   3104\u001b[0m \u001b[38;5;28;01melif\u001b[39;00m \u001b[38;5;28misinstance\u001b[39m(obj, \u001b[38;5;28mtuple\u001b[39m) \u001b[38;5;129;01mand\u001b[39;00m \u001b[38;5;28mlen\u001b[39m(obj) \u001b[38;5;241m==\u001b[39m \u001b[38;5;241m3\u001b[39m:\n\u001b[0;32m-> 3105\u001b[0m     uproot\u001b[38;5;241m.\u001b[39msource\u001b[38;5;241m.\u001b[39mfutures\u001b[38;5;241m.\u001b[39mdelayed_raise(\u001b[38;5;241m*\u001b[39mobj)\n\u001b[1;32m   3107\u001b[0m \u001b[38;5;28;01melse\u001b[39;00m:\n\u001b[1;32m   3108\u001b[0m     \u001b[38;5;28;01mraise\u001b[39;00m \u001b[38;5;167;01mAssertionError\u001b[39;00m(obj)\n",
      "File \u001b[0;32m/opt/anaconda3/lib/python3.11/site-packages/uproot/source/futures.py:38\u001b[0m, in \u001b[0;36mdelayed_raise\u001b[0;34m(exception_class, exception_value, traceback)\u001b[0m\n\u001b[1;32m     34\u001b[0m \u001b[38;5;28;01mdef\u001b[39;00m \u001b[38;5;21mdelayed_raise\u001b[39m(exception_class, exception_value, traceback):\n\u001b[1;32m     35\u001b[0m \u001b[38;5;250m    \u001b[39m\u001b[38;5;124;03m\"\"\"\u001b[39;00m\n\u001b[1;32m     36\u001b[0m \u001b[38;5;124;03m    Raise an exception from a background thread on the main thread.\u001b[39;00m\n\u001b[1;32m     37\u001b[0m \u001b[38;5;124;03m    \"\"\"\u001b[39;00m\n\u001b[0;32m---> 38\u001b[0m     \u001b[38;5;28;01mraise\u001b[39;00m exception_value\u001b[38;5;241m.\u001b[39mwith_traceback(traceback)\n",
      "File \u001b[0;32m/opt/anaconda3/lib/python3.11/site-packages/uproot/behaviors/TBranch.py:3026\u001b[0m, in \u001b[0;36m_ranges_or_baskets_to_arrays.<locals>.chunk_to_basket\u001b[0;34m(chunk, branch, basket_num)\u001b[0m\n\u001b[1;32m   3024\u001b[0m \u001b[38;5;28;01mtry\u001b[39;00m:\n\u001b[1;32m   3025\u001b[0m     cursor \u001b[38;5;241m=\u001b[39m uproot\u001b[38;5;241m.\u001b[39msource\u001b[38;5;241m.\u001b[39mcursor\u001b[38;5;241m.\u001b[39mCursor(chunk\u001b[38;5;241m.\u001b[39mstart)\n\u001b[0;32m-> 3026\u001b[0m     basket \u001b[38;5;241m=\u001b[39m uproot\u001b[38;5;241m.\u001b[39mmodels\u001b[38;5;241m.\u001b[39mTBasket\u001b[38;5;241m.\u001b[39mModel_TBasket\u001b[38;5;241m.\u001b[39mread(\n\u001b[1;32m   3027\u001b[0m         chunk,\n\u001b[1;32m   3028\u001b[0m         cursor,\n\u001b[1;32m   3029\u001b[0m         {\u001b[38;5;124m\"\u001b[39m\u001b[38;5;124mbasket_num\u001b[39m\u001b[38;5;124m\"\u001b[39m: basket_num},\n\u001b[1;32m   3030\u001b[0m         hasbranches\u001b[38;5;241m.\u001b[39m_file,\n\u001b[1;32m   3031\u001b[0m         hasbranches\u001b[38;5;241m.\u001b[39m_file,\n\u001b[1;32m   3032\u001b[0m         branch,\n\u001b[1;32m   3033\u001b[0m     )\n\u001b[1;32m   3034\u001b[0m     original_index \u001b[38;5;241m=\u001b[39m range_original_index[(chunk\u001b[38;5;241m.\u001b[39mstart, chunk\u001b[38;5;241m.\u001b[39mstop)]\n\u001b[1;32m   3035\u001b[0m     \u001b[38;5;28;01mif\u001b[39;00m update_ranges_or_baskets:\n",
      "File \u001b[0;32m/opt/anaconda3/lib/python3.11/site-packages/uproot/model.py:854\u001b[0m, in \u001b[0;36mModel.read\u001b[0;34m(cls, chunk, cursor, context, file, selffile, parent, concrete)\u001b[0m\n\u001b[1;32m    852\u001b[0m     forth_obj\u001b[38;5;241m.\u001b[39madd_node(forth_stash)\n\u001b[1;32m    853\u001b[0m     forth_obj\u001b[38;5;241m.\u001b[39mpush_active_node(forth_stash)\n\u001b[0;32m--> 854\u001b[0m \u001b[38;5;28mself\u001b[39m\u001b[38;5;241m.\u001b[39mread_members(chunk, cursor, context, file)\n\u001b[1;32m    855\u001b[0m \u001b[38;5;28;01mif\u001b[39;00m forth_obj \u001b[38;5;129;01mis\u001b[39;00m \u001b[38;5;129;01mnot\u001b[39;00m \u001b[38;5;28;01mNone\u001b[39;00m:\n\u001b[1;32m    856\u001b[0m     forth_obj\u001b[38;5;241m.\u001b[39mpop_active_node()\n",
      "File \u001b[0;32m/opt/anaconda3/lib/python3.11/site-packages/uproot/models/TBasket.py:227\u001b[0m, in \u001b[0;36mModel_TBasket.read_members\u001b[0;34m(self, chunk, cursor, context, file)\u001b[0m\n\u001b[1;32m    217\u001b[0m \u001b[38;5;28;01massert\u001b[39;00m \u001b[38;5;28misinstance\u001b[39m(\u001b[38;5;28mself\u001b[39m\u001b[38;5;241m.\u001b[39m_parent, uproot\u001b[38;5;241m.\u001b[39mbehaviors\u001b[38;5;241m.\u001b[39mTBranch\u001b[38;5;241m.\u001b[39mTBranch)\n\u001b[1;32m    218\u001b[0m \u001b[38;5;28mself\u001b[39m\u001b[38;5;241m.\u001b[39m_basket_num \u001b[38;5;241m=\u001b[39m context\u001b[38;5;241m.\u001b[39mget(\u001b[38;5;124m\"\u001b[39m\u001b[38;5;124mbasket_num\u001b[39m\u001b[38;5;124m\"\u001b[39m)\n\u001b[1;32m    220\u001b[0m (\n\u001b[1;32m    221\u001b[0m     \u001b[38;5;28mself\u001b[39m\u001b[38;5;241m.\u001b[39m_members[\u001b[38;5;124m\"\u001b[39m\u001b[38;5;124mfNbytes\u001b[39m\u001b[38;5;124m\"\u001b[39m],\n\u001b[1;32m    222\u001b[0m     \u001b[38;5;28mself\u001b[39m\u001b[38;5;241m.\u001b[39m_key_version,\n\u001b[1;32m    223\u001b[0m     \u001b[38;5;28mself\u001b[39m\u001b[38;5;241m.\u001b[39m_members[\u001b[38;5;124m\"\u001b[39m\u001b[38;5;124mfObjlen\u001b[39m\u001b[38;5;124m\"\u001b[39m],\n\u001b[1;32m    224\u001b[0m     \u001b[38;5;28mself\u001b[39m\u001b[38;5;241m.\u001b[39m_members[\u001b[38;5;124m\"\u001b[39m\u001b[38;5;124mfDatime\u001b[39m\u001b[38;5;124m\"\u001b[39m],\n\u001b[1;32m    225\u001b[0m     \u001b[38;5;28mself\u001b[39m\u001b[38;5;241m.\u001b[39m_members[\u001b[38;5;124m\"\u001b[39m\u001b[38;5;124mfKeylen\u001b[39m\u001b[38;5;124m\"\u001b[39m],\n\u001b[1;32m    226\u001b[0m     \u001b[38;5;28mself\u001b[39m\u001b[38;5;241m.\u001b[39m_members[\u001b[38;5;124m\"\u001b[39m\u001b[38;5;124mfCycle\u001b[39m\u001b[38;5;124m\"\u001b[39m],\n\u001b[0;32m--> 227\u001b[0m ) \u001b[38;5;241m=\u001b[39m cursor\u001b[38;5;241m.\u001b[39mfields(chunk, _tbasket_format1, context)\n\u001b[1;32m    229\u001b[0m \u001b[38;5;66;03m# skip the class name, name, and title\u001b[39;00m\n\u001b[1;32m    230\u001b[0m cursor\u001b[38;5;241m.\u001b[39mmove_to(\n\u001b[1;32m    231\u001b[0m     \u001b[38;5;28mself\u001b[39m\u001b[38;5;241m.\u001b[39m_cursor\u001b[38;5;241m.\u001b[39mindex \u001b[38;5;241m+\u001b[39m \u001b[38;5;28mself\u001b[39m\u001b[38;5;241m.\u001b[39m_members[\u001b[38;5;124m\"\u001b[39m\u001b[38;5;124mfKeylen\u001b[39m\u001b[38;5;124m\"\u001b[39m] \u001b[38;5;241m-\u001b[39m _tbasket_format2\u001b[38;5;241m.\u001b[39msize \u001b[38;5;241m-\u001b[39m \u001b[38;5;241m1\u001b[39m\n\u001b[1;32m    232\u001b[0m )\n",
      "File \u001b[0;32m/opt/anaconda3/lib/python3.11/site-packages/uproot/source/cursor.py:201\u001b[0m, in \u001b[0;36mCursor.fields\u001b[0;34m(self, chunk, format, context, move)\u001b[0m\n\u001b[1;32m    199\u001b[0m \u001b[38;5;28;01mif\u001b[39;00m move:\n\u001b[1;32m    200\u001b[0m     \u001b[38;5;28mself\u001b[39m\u001b[38;5;241m.\u001b[39m_index \u001b[38;5;241m=\u001b[39m stop\n\u001b[0;32m--> 201\u001b[0m \u001b[38;5;28;01mreturn\u001b[39;00m \u001b[38;5;28mformat\u001b[39m\u001b[38;5;241m.\u001b[39munpack(chunk\u001b[38;5;241m.\u001b[39mget(start, stop, \u001b[38;5;28mself\u001b[39m, context))\n",
      "File \u001b[0;32m/opt/anaconda3/lib/python3.11/site-packages/uproot/source/chunk.py:446\u001b[0m, in \u001b[0;36mChunk.get\u001b[0;34m(self, start, stop, cursor, context)\u001b[0m\n\u001b[1;32m    424\u001b[0m \u001b[38;5;250m\u001b[39m\u001b[38;5;124;03m\"\"\"\u001b[39;00m\n\u001b[1;32m    425\u001b[0m \u001b[38;5;124;03mArgs:\u001b[39;00m\n\u001b[1;32m    426\u001b[0m \u001b[38;5;124;03m    start (int): Seek position of the first byte to include.\u001b[39;00m\n\u001b[0;32m   (...)\u001b[0m\n\u001b[1;32m    443\u001b[0m \u001b[38;5;124;03malready.\u001b[39;00m\n\u001b[1;32m    444\u001b[0m \u001b[38;5;124;03m\"\"\"\u001b[39;00m\n\u001b[1;32m    445\u001b[0m \u001b[38;5;28;01mif\u001b[39;00m (start, stop) \u001b[38;5;129;01min\u001b[39;00m \u001b[38;5;28mself\u001b[39m:\n\u001b[0;32m--> 446\u001b[0m     \u001b[38;5;28mself\u001b[39m\u001b[38;5;241m.\u001b[39mwait(insist\u001b[38;5;241m=\u001b[39mstop)\n\u001b[1;32m    447\u001b[0m     local_start \u001b[38;5;241m=\u001b[39m start \u001b[38;5;241m-\u001b[39m \u001b[38;5;28mself\u001b[39m\u001b[38;5;241m.\u001b[39m_start\n\u001b[1;32m    448\u001b[0m     local_stop \u001b[38;5;241m=\u001b[39m stop \u001b[38;5;241m-\u001b[39m \u001b[38;5;28mself\u001b[39m\u001b[38;5;241m.\u001b[39m_start\n",
      "File \u001b[0;32m/opt/anaconda3/lib/python3.11/site-packages/uproot/source/chunk.py:388\u001b[0m, in \u001b[0;36mChunk.wait\u001b[0;34m(self, insist)\u001b[0m\n\u001b[1;32m    377\u001b[0m \u001b[38;5;250m\u001b[39m\u001b[38;5;124;03m\"\"\"\u001b[39;00m\n\u001b[1;32m    378\u001b[0m \u001b[38;5;124;03mArgs:\u001b[39;00m\n\u001b[1;32m    379\u001b[0m \u001b[38;5;124;03m    insist (bool or int): If True, raise an OSError if ``raw_data`` does\u001b[39;00m\n\u001b[0;32m   (...)\u001b[0m\n\u001b[1;32m    385\u001b[0m \u001b[38;5;124;03m:ref:`uproot.source.chunk.Chunk.future` completes).\u001b[39;00m\n\u001b[1;32m    386\u001b[0m \u001b[38;5;124;03m\"\"\"\u001b[39;00m\n\u001b[1;32m    387\u001b[0m \u001b[38;5;28;01mif\u001b[39;00m \u001b[38;5;28mself\u001b[39m\u001b[38;5;241m.\u001b[39m_raw_data \u001b[38;5;129;01mis\u001b[39;00m \u001b[38;5;28;01mNone\u001b[39;00m:\n\u001b[0;32m--> 388\u001b[0m     \u001b[38;5;28mself\u001b[39m\u001b[38;5;241m.\u001b[39m_raw_data \u001b[38;5;241m=\u001b[39m numpy\u001b[38;5;241m.\u001b[39mfrombuffer(\u001b[38;5;28mself\u001b[39m\u001b[38;5;241m.\u001b[39m_future\u001b[38;5;241m.\u001b[39mresult(), dtype\u001b[38;5;241m=\u001b[39m\u001b[38;5;28mself\u001b[39m\u001b[38;5;241m.\u001b[39m_dtype)\n\u001b[1;32m    389\u001b[0m     \u001b[38;5;28;01mif\u001b[39;00m insist \u001b[38;5;129;01mis\u001b[39;00m \u001b[38;5;28;01mTrue\u001b[39;00m:\n\u001b[1;32m    390\u001b[0m         requirement \u001b[38;5;241m=\u001b[39m \u001b[38;5;28mlen\u001b[39m(\u001b[38;5;28mself\u001b[39m\u001b[38;5;241m.\u001b[39m_raw_data) \u001b[38;5;241m==\u001b[39m \u001b[38;5;28mself\u001b[39m\u001b[38;5;241m.\u001b[39m_stop \u001b[38;5;241m-\u001b[39m \u001b[38;5;28mself\u001b[39m\u001b[38;5;241m.\u001b[39m_start\n",
      "File \u001b[0;32m/opt/anaconda3/lib/python3.11/site-packages/uproot/source/fsspec.py:28\u001b[0m, in \u001b[0;36mPartFuture.result\u001b[0;34m(self, timeout)\u001b[0m\n\u001b[1;32m     27\u001b[0m \u001b[38;5;28;01mdef\u001b[39;00m \u001b[38;5;21mresult\u001b[39m(\u001b[38;5;28mself\u001b[39m, timeout\u001b[38;5;241m=\u001b[39m\u001b[38;5;28;01mNone\u001b[39;00m):\n\u001b[0;32m---> 28\u001b[0m     \u001b[38;5;28;01mreturn\u001b[39;00m \u001b[38;5;28mself\u001b[39m\u001b[38;5;241m.\u001b[39m_parent\u001b[38;5;241m.\u001b[39mresult(timeout\u001b[38;5;241m=\u001b[39mtimeout)[\u001b[38;5;28mself\u001b[39m\u001b[38;5;241m.\u001b[39m_part_index]\n",
      "File \u001b[0;32m/opt/anaconda3/lib/python3.11/concurrent/futures/_base.py:449\u001b[0m, in \u001b[0;36mFuture.result\u001b[0;34m(self, timeout)\u001b[0m\n\u001b[1;32m    447\u001b[0m     \u001b[38;5;28;01mraise\u001b[39;00m CancelledError()\n\u001b[1;32m    448\u001b[0m \u001b[38;5;28;01melif\u001b[39;00m \u001b[38;5;28mself\u001b[39m\u001b[38;5;241m.\u001b[39m_state \u001b[38;5;241m==\u001b[39m FINISHED:\n\u001b[0;32m--> 449\u001b[0m     \u001b[38;5;28;01mreturn\u001b[39;00m \u001b[38;5;28mself\u001b[39m\u001b[38;5;241m.\u001b[39m__get_result()\n\u001b[1;32m    451\u001b[0m \u001b[38;5;28mself\u001b[39m\u001b[38;5;241m.\u001b[39m_condition\u001b[38;5;241m.\u001b[39mwait(timeout)\n\u001b[1;32m    453\u001b[0m \u001b[38;5;28;01mif\u001b[39;00m \u001b[38;5;28mself\u001b[39m\u001b[38;5;241m.\u001b[39m_state \u001b[38;5;129;01min\u001b[39;00m [CANCELLED, CANCELLED_AND_NOTIFIED]:\n",
      "File \u001b[0;32m/opt/anaconda3/lib/python3.11/concurrent/futures/_base.py:401\u001b[0m, in \u001b[0;36mFuture.__get_result\u001b[0;34m(self)\u001b[0m\n\u001b[1;32m    399\u001b[0m \u001b[38;5;28;01mif\u001b[39;00m \u001b[38;5;28mself\u001b[39m\u001b[38;5;241m.\u001b[39m_exception:\n\u001b[1;32m    400\u001b[0m     \u001b[38;5;28;01mtry\u001b[39;00m:\n\u001b[0;32m--> 401\u001b[0m         \u001b[38;5;28;01mraise\u001b[39;00m \u001b[38;5;28mself\u001b[39m\u001b[38;5;241m.\u001b[39m_exception\n\u001b[1;32m    402\u001b[0m     \u001b[38;5;28;01mfinally\u001b[39;00m:\n\u001b[1;32m    403\u001b[0m         \u001b[38;5;66;03m# Break a reference cycle with the exception in self._exception\u001b[39;00m\n\u001b[1;32m    404\u001b[0m         \u001b[38;5;28mself\u001b[39m \u001b[38;5;241m=\u001b[39m \u001b[38;5;28;01mNone\u001b[39;00m\n",
      "File \u001b[0;32m/opt/anaconda3/lib/python3.11/site-packages/fsspec_xrootd/xrootd.py:641\u001b[0m, in \u001b[0;36mXRootDFileSystem._cat_ranges\u001b[0;34m(self, paths, starts, ends, max_gap, batch_size, **kwargs)\u001b[0m\n\u001b[1;32m    634\u001b[0m batch_size \u001b[38;5;241m=\u001b[39m batch_size \u001b[38;5;129;01mor\u001b[39;00m \u001b[38;5;28mself\u001b[39m\u001b[38;5;241m.\u001b[39mbatch_size\n\u001b[1;32m    636\u001b[0m coros \u001b[38;5;241m=\u001b[39m [\n\u001b[1;32m    637\u001b[0m     \u001b[38;5;28mself\u001b[39m\u001b[38;5;241m.\u001b[39m_cat_vector_read(key, uniquePaths[key], batch_size)\n\u001b[1;32m    638\u001b[0m     \u001b[38;5;28;01mfor\u001b[39;00m key \u001b[38;5;129;01min\u001b[39;00m uniquePaths\u001b[38;5;241m.\u001b[39mkeys()\n\u001b[1;32m    639\u001b[0m ]\n\u001b[0;32m--> 641\u001b[0m results \u001b[38;5;241m=\u001b[39m \u001b[38;5;28;01mawait\u001b[39;00m _run_coros_in_chunks(coros, batch_size\u001b[38;5;241m=\u001b[39mbatch_size, nofiles\u001b[38;5;241m=\u001b[39m\u001b[38;5;28;01mTrue\u001b[39;00m)\n\u001b[1;32m    643\u001b[0m resDict \u001b[38;5;241m=\u001b[39m \u001b[38;5;28mdict\u001b[39m(results)\n\u001b[1;32m    645\u001b[0m deets \u001b[38;5;241m=\u001b[39m [resDict[path]\u001b[38;5;241m.\u001b[39mpop(\u001b[38;5;241m0\u001b[39m) \u001b[38;5;28;01mfor\u001b[39;00m path \u001b[38;5;129;01min\u001b[39;00m paths]\n",
      "File \u001b[0;32m/opt/anaconda3/lib/python3.11/site-packages/fsspec/asyn.py:254\u001b[0m, in \u001b[0;36m_run_coros_in_chunks\u001b[0;34m(coros, batch_size, callback, timeout, return_exceptions, nofiles)\u001b[0m\n\u001b[1;32m    248\u001b[0m     \u001b[38;5;28;01mif\u001b[39;00m callback \u001b[38;5;129;01mis\u001b[39;00m \u001b[38;5;129;01mnot\u001b[39;00m _DEFAULT_CALLBACK:\n\u001b[1;32m    249\u001b[0m         [\n\u001b[1;32m    250\u001b[0m             t\u001b[38;5;241m.\u001b[39madd_done_callback(\u001b[38;5;28;01mlambda\u001b[39;00m \u001b[38;5;241m*\u001b[39m_, \u001b[38;5;241m*\u001b[39m\u001b[38;5;241m*\u001b[39m__: callback\u001b[38;5;241m.\u001b[39mrelative_update(\u001b[38;5;241m1\u001b[39m))\n\u001b[1;32m    251\u001b[0m             \u001b[38;5;28;01mfor\u001b[39;00m t \u001b[38;5;129;01min\u001b[39;00m chunk\n\u001b[1;32m    252\u001b[0m         ]\n\u001b[1;32m    253\u001b[0m     results\u001b[38;5;241m.\u001b[39mextend(\n\u001b[0;32m--> 254\u001b[0m         \u001b[38;5;28;01mawait\u001b[39;00m asyncio\u001b[38;5;241m.\u001b[39mgather(\u001b[38;5;241m*\u001b[39mchunk, return_exceptions\u001b[38;5;241m=\u001b[39mreturn_exceptions),\n\u001b[1;32m    255\u001b[0m     )\n\u001b[1;32m    256\u001b[0m \u001b[38;5;28;01mreturn\u001b[39;00m results\n",
      "File \u001b[0;32m/opt/anaconda3/lib/python3.11/asyncio/tasks.py:452\u001b[0m, in \u001b[0;36mwait_for\u001b[0;34m(fut, timeout)\u001b[0m\n\u001b[1;32m    449\u001b[0m loop \u001b[38;5;241m=\u001b[39m events\u001b[38;5;241m.\u001b[39mget_running_loop()\n\u001b[1;32m    451\u001b[0m \u001b[38;5;28;01mif\u001b[39;00m timeout \u001b[38;5;129;01mis\u001b[39;00m \u001b[38;5;28;01mNone\u001b[39;00m:\n\u001b[0;32m--> 452\u001b[0m     \u001b[38;5;28;01mreturn\u001b[39;00m \u001b[38;5;28;01mawait\u001b[39;00m fut\n\u001b[1;32m    454\u001b[0m \u001b[38;5;28;01mif\u001b[39;00m timeout \u001b[38;5;241m<\u001b[39m\u001b[38;5;241m=\u001b[39m \u001b[38;5;241m0\u001b[39m:\n\u001b[1;32m    455\u001b[0m     fut \u001b[38;5;241m=\u001b[39m ensure_future(fut, loop\u001b[38;5;241m=\u001b[39mloop)\n",
      "File \u001b[0;32m/opt/anaconda3/lib/python3.11/site-packages/fsspec_xrootd/xrootd.py:601\u001b[0m, in \u001b[0;36mXRootDFileSystem._cat_vector_read\u001b[0;34m(self, path, chunks, batch_size)\u001b[0m\n\u001b[1;32m    599\u001b[0m \u001b[38;5;28;01mfor\u001b[39;00m status, buffers \u001b[38;5;129;01min\u001b[39;00m results:\n\u001b[1;32m    600\u001b[0m     \u001b[38;5;28;01mif\u001b[39;00m \u001b[38;5;129;01mnot\u001b[39;00m status\u001b[38;5;241m.\u001b[39mok:\n\u001b[0;32m--> 601\u001b[0m         \u001b[38;5;28;01mraise\u001b[39;00m \u001b[38;5;167;01mOSError\u001b[39;00m(\u001b[38;5;124mf\u001b[39m\u001b[38;5;124m\"\u001b[39m\u001b[38;5;124mFile did not vector_read properly: \u001b[39m\u001b[38;5;132;01m{\u001b[39;00mstatus\u001b[38;5;241m.\u001b[39mmessage\u001b[38;5;132;01m}\u001b[39;00m\u001b[38;5;124m\"\u001b[39m)\n\u001b[1;32m    602\u001b[0m     result_bufs\u001b[38;5;241m.\u001b[39mappend(buffers)\n\u001b[1;32m    603\u001b[0m deets \u001b[38;5;241m=\u001b[39m _vectors_to_chunks(chunks, result_bufs)\n",
      "\u001b[0;31mOSError\u001b[0m: File did not vector_read properly: [ERROR] Operation expired"
     ]
    }
   ],
   "source": [
    "everything = tree.arrays()"
   ]
  },
  {
   "cell_type": "code",
   "execution_count": 51,
   "id": "b30feb8a-6c0b-4d23-bc3b-beb98c871ffe",
   "metadata": {},
   "outputs": [
    {
     "data": {
      "text/html": [
       "<pre>[{Muon_pt: [10.8, 15.7], Muon_eta: [1.07, -0.564], Muon_phi: [...], ...},\n",
       " {Muon_pt: [10.5, 16.3], Muon_eta: [-0.428, ...], Muon_phi: [...], ...},\n",
       " {Muon_pt: [3.28], Muon_eta: [2.21], Muon_phi: [-1.22], Muon_mass: ..., ...},\n",
       " {Muon_pt: [11.4, 17.6, 9.62, 3.5], Muon_eta: [-1.59, ...], Muon_phi: ..., ...},\n",
       " {Muon_pt: [3.28, 3.64, 32.9, 23.7], Muon_eta: [-2.17, ...], ...},\n",
       " {Muon_pt: [3.57, 4.57, 4.37], Muon_eta: [-1.37, ...], Muon_phi: [...], ...},\n",
       " {Muon_pt: [57.6, 53], Muon_eta: [-0.532, -1], Muon_phi: [...], ...},\n",
       " {Muon_pt: [11.3, 23.9], Muon_eta: [-0.772, ...], Muon_phi: [...], ...},\n",
       " {Muon_pt: [10.2, 14.2], Muon_eta: [0.442, 0.702], Muon_phi: [...], ...},\n",
       " {Muon_pt: [11.5, 3.47], Muon_eta: [2.34, 2.35], Muon_phi: [...], ...},\n",
       " ...,\n",
       " {Muon_pt: [3.13, 16.9, 11], Muon_eta: [-1.43, ...], Muon_phi: [...], ...},\n",
       " {Muon_pt: [34.2, 14], Muon_eta: [-0.913, ...], Muon_phi: [...], ...},\n",
       " {Muon_pt: [14, 8.19], Muon_eta: [-0.409, ...], Muon_phi: [...], ...},\n",
       " {Muon_pt: [30.6], Muon_eta: [0.696], Muon_phi: [-1.95], Muon_mass: ..., ...},\n",
       " {Muon_pt: [22.1, 12.9, 13.4], Muon_eta: [1.97, ...], Muon_phi: [...], ...},\n",
       " {Muon_pt: [10.1, 4.34], Muon_eta: [0.833, 1.95], Muon_phi: [...], ...},\n",
       " {Muon_pt: [4.36, 15.1, 12.4], Muon_eta: [1.05, ...], Muon_phi: [...], ...},\n",
       " {Muon_pt: [17.7, 4.61, 8.79, 5.14], Muon_eta: [0.587, ...], ...},\n",
       " {Muon_pt: [28.9, 8.62, 4.51], Muon_eta: [0.917, ...], Muon_phi: [...], ...}]\n",
       "--------------------------------------------------------------------------------\n",
       "type: 1000 * {\n",
       "    Muon_pt: var * float32,\n",
       "    Muon_eta: var * float32,\n",
       "    Muon_phi: var * float32,\n",
       "    Muon_mass: var * float32,\n",
       "    Muon_charge: var * int32\n",
       "}</pre>"
      ],
      "text/plain": [
       "<Array [{Muon_pt: [...], ...}, ..., {...}] type='1000 * {Muon_pt: var * flo...'>"
      ]
     },
     "execution_count": 51,
     "metadata": {},
     "output_type": "execute_result"
    }
   ],
   "source": [
    "tree.keys(filter_name=\"Muon_*\")\n",
    "\n",
    "tree.arrays(filter_name=\"Muon_*\", entry_stop=1000)"
   ]
  },
  {
   "cell_type": "code",
   "execution_count": 52,
   "id": "9356d5fd-d321-4a85-ba75-2c2ba4fbb6e7",
   "metadata": {},
   "outputs": [
    {
     "data": {
      "text/plain": [
       "[StairsArtists(stairs=<matplotlib.patches.StepPatch object at 0x142420050>, errorbar=<ErrorbarContainer object of 3 artists>, legend_artist=<ErrorbarContainer object of 3 artists>)]"
      ]
     },
     "execution_count": 52,
     "metadata": {},
     "output_type": "execute_result"
    },
    {
     "data": {
      "image/png": "[encoded data removed]",
      "text/plain": [
       "<Figure size 640x480 with 1 Axes>"
      ]
     },
     "metadata": {},
     "output_type": "display_data"
    }
   ],
   "source": [
    "muons = tree.arrays(entry_stop=1000)\n",
    "cut = muons[\"nMuon\"] == 2\n",
    "\n",
    "pt0 = muons[\"Muon_pt\", cut, 0]\n",
    "pt1 = muons[\"Muon_pt\", cut, 1]\n",
    "eta0 = muons[\"Muon_eta\", cut, 0]\n",
    "eta1 = muons[\"Muon_eta\", cut, 1]\n",
    "phi0 = muons[\"Muon_phi\", cut, 0]\n",
    "phi1 = muons[\"Muon_phi\", cut, 1]\n",
    "\n",
    "import numpy as np\n",
    "\n",
    "mass = np.sqrt(2 * pt0 * pt1 * (np.cosh(eta0 - eta1) - np.cos(phi0 - phi1)))\n",
    "\n",
    "import hist\n",
    "\n",
    "masshist = hist.Hist(hist.axis.Regular(120, 0, 120, label=\"mass [GeV]\"))\n",
    "masshist.fill(mass)\n",
    "masshist.plot()"
   ]
  },
  {
   "cell_type": "code",
   "execution_count": 53,
   "id": "e424f673-fc89-400a-be7f-e9a84a6b171e",
   "metadata": {},
   "outputs": [
    {
     "data": {
      "text/plain": [
       "['nMuon', 'Muon_pt', 'Muon_eta', 'Muon_phi']"
      ]
     },
     "execution_count": 53,
     "metadata": {},
     "output_type": "execute_result"
    }
   ],
   "source": [
    "tree.keys(filter_name=[\"nMuon\", \"/Muon_(pt|eta|phi)/\"])"
   ]
  },
  {
   "cell_type": "code",
   "execution_count": 54,
   "id": "cb0b731f-10ed-4abb-80b9-7d705928c4ba",
   "metadata": {},
   "outputs": [
    {
     "name": "stdout",
     "output_type": "stream",
     "text": [
      "0.02476806582367265\n",
      "0.04953244301431646\n",
      "0.07414066265691133\n",
      "0.09883069845501362\n",
      "0.12372555900786691\n",
      "0.14857022490245556\n",
      "0.1733401756663544\n",
      "0.19790541542189521\n",
      "0.2231366240587303\n",
      "0.24903843268000167\n",
      "0.2746961577914662\n",
      "0.3004716591680982\n",
      "0.3266033492495411\n",
      "0.35272515964428125\n",
      "0.37907369909915944\n",
      "0.4053174618766371\n",
      "0.4309308746433015\n",
      "0.4559705993523313\n",
      "0.4818679393653078\n",
      "0.5026042967894935\n"
     ]
    },
    {
     "data": {
      "text/plain": [
       "[StairsArtists(stairs=<matplotlib.patches.StepPatch object at 0x154ce6c10>, errorbar=<ErrorbarContainer object of 3 artists>, legend_artist=<ErrorbarContainer object of 3 artists>)]"
      ]
     },
     "execution_count": 54,
     "metadata": {},
     "output_type": "execute_result"
    },
    {
     "data": {
      "image/png": "[encoded data removed]",
      "text/plain": [
       "<Figure size 640x480 with 1 Axes>"
      ]
     },
     "metadata": {},
     "output_type": "display_data"
    }
   ],
   "source": [
    "masshist = hist.Hist(hist.axis.Regular(120, 0, 120, label=\"mass [GeV]\"))\n",
    "\n",
    "for muons in tree.iterate(filter_name=[\"nMuon\", \"/Muon_(pt|eta|phi)/\"]):\n",
    "    cut = muons[\"nMuon\"] == 2\n",
    "    pt0 = muons[\"Muon_pt\", cut, 0]\n",
    "    pt1 = muons[\"Muon_pt\", cut, 1]\n",
    "    eta0 = muons[\"Muon_eta\", cut, 0]\n",
    "    eta1 = muons[\"Muon_eta\", cut, 1]\n",
    "    phi0 = muons[\"Muon_phi\", cut, 0]\n",
    "    phi1 = muons[\"Muon_phi\", cut, 1]\n",
    "    mass = np.sqrt(2 * pt0 * pt1 * (np.cosh(eta0 - eta1) - np.cos(phi0 - phi1)))\n",
    "    masshist.fill(mass)\n",
    "    print(masshist.sum() / tree.num_entries)\n",
    "\n",
    "masshist.plot()"
   ]
  },
  {
   "cell_type": "code",
   "execution_count": 56,
   "id": "091896ad-1d14-4e4b-82fc-7f8850607d55",
   "metadata": {},
   "outputs": [
    {
     "data": {
      "text/html": [
       "<div>\n",
       "<style scoped>\n",
       "    .dataframe tbody tr th:only-of-type {\n",
       "        vertical-align: middle;\n",
       "    }\n",
       "\n",
       "    .dataframe tbody tr th {\n",
       "        vertical-align: top;\n",
       "    }\n",
       "\n",
       "    .dataframe thead th {\n",
       "        text-align: right;\n",
       "    }\n",
       "</style>\n",
       "<table border=\"1\" class=\"dataframe\">\n",
       "  <thead>\n",
       "    <tr style=\"text-align: right;\">\n",
       "      <th></th>\n",
       "      <th>nMuon</th>\n",
       "      <th>Muon_pt</th>\n",
       "      <th>Muon_eta</th>\n",
       "      <th>Muon_phi</th>\n",
       "      <th>Muon_mass</th>\n",
       "      <th>Muon_charge</th>\n",
       "    </tr>\n",
       "  </thead>\n",
       "  <tbody>\n",
       "    <tr>\n",
       "      <th>0</th>\n",
       "      <td>2</td>\n",
       "      <td>[10.763696670532227, 15.736522674560547]</td>\n",
       "      <td>[1.0668272972106934, -0.563786506652832]</td>\n",
       "      <td>[-0.03427272289991379, 2.5426154136657715]</td>\n",
       "      <td>[0.10565836727619171, 0.10565836727619171]</td>\n",
       "      <td>[-1, -1]</td>\n",
       "    </tr>\n",
       "    <tr>\n",
       "      <th>1</th>\n",
       "      <td>2</td>\n",
       "      <td>[10.538490295410156, 16.327096939086914]</td>\n",
       "      <td>[-0.42778006196022034, 0.34922507405281067]</td>\n",
       "      <td>[-0.2747921049594879, 2.539781332015991]</td>\n",
       "      <td>[0.10565836727619171, 0.10565836727619171]</td>\n",
       "      <td>[1, -1]</td>\n",
       "    </tr>\n",
       "    <tr>\n",
       "      <th>2</th>\n",
       "      <td>1</td>\n",
       "      <td>[3.2753264904022217]</td>\n",
       "      <td>[2.210855484008789]</td>\n",
       "      <td>[-1.2234135866165161]</td>\n",
       "      <td>[0.10565836727619171]</td>\n",
       "      <td>[1]</td>\n",
       "    </tr>\n",
       "    <tr>\n",
       "      <th>3</th>\n",
       "      <td>4</td>\n",
       "      <td>[11.429154396057129, 17.634033203125, 9.624728...</td>\n",
       "      <td>[-1.5882395505905151, -1.7511844635009766, -1....</td>\n",
       "      <td>[-2.0773041248321533, 0.25135836005210876, -2....</td>\n",
       "      <td>[0.10565836727619171, 0.10565836727619171, 0.1...</td>\n",
       "      <td>[1, 1, 1, 1]</td>\n",
       "    </tr>\n",
       "    <tr>\n",
       "      <th>4</th>\n",
       "      <td>4</td>\n",
       "      <td>[3.2834417819976807, 3.64400577545166, 32.9112...</td>\n",
       "      <td>[-2.1724836826324463, -2.18253493309021, -1.12...</td>\n",
       "      <td>[-2.3700082302093506, -2.3051390647888184, -0....</td>\n",
       "      <td>[0.10565836727619171, 0.10565836727619171, 0.1...</td>\n",
       "      <td>[-1, -1, 1, 1]</td>\n",
       "    </tr>\n",
       "    <tr>\n",
       "      <th>...</th>\n",
       "      <td>...</td>\n",
       "      <td>...</td>\n",
       "      <td>...</td>\n",
       "      <td>...</td>\n",
       "      <td>...</td>\n",
       "      <td>...</td>\n",
       "    </tr>\n",
       "    <tr>\n",
       "      <th>9995</th>\n",
       "      <td>2</td>\n",
       "      <td>[26.859142303466797, 9.353170394897461]</td>\n",
       "      <td>[1.930126667022705, 1.9606289863586426]</td>\n",
       "      <td>[2.006714105606079, 1.871167540550232]</td>\n",
       "      <td>[0.10565836727619171, 0.10565836727619171]</td>\n",
       "      <td>[1, -1]</td>\n",
       "    </tr>\n",
       "    <tr>\n",
       "      <th>9996</th>\n",
       "      <td>2</td>\n",
       "      <td>[9.003849029541016, 14.049983978271484]</td>\n",
       "      <td>[1.7759391069412231, 1.0048433542251587]</td>\n",
       "      <td>[-0.8459293246269226, 2.2061259746551514]</td>\n",
       "      <td>[0.10565836727619171, 0.10565836727619171]</td>\n",
       "      <td>[-1, 1]</td>\n",
       "    </tr>\n",
       "    <tr>\n",
       "      <th>9997</th>\n",
       "      <td>2</td>\n",
       "      <td>[30.238283157348633, 13.03593635559082]</td>\n",
       "      <td>[-1.198452353477478, -2.027805805206299]</td>\n",
       "      <td>[-2.2813563346862793, 0.6028729677200317]</td>\n",
       "      <td>[0.10565836727619171, 0.10565836727619171]</td>\n",
       "      <td>[1, -1]</td>\n",
       "    </tr>\n",
       "    <tr>\n",
       "      <th>9998</th>\n",
       "      <td>2</td>\n",
       "      <td>[17.35597038269043, 15.87411880493164]</td>\n",
       "      <td>[-0.8361367583274841, -0.8279833793640137]</td>\n",
       "      <td>[-1.4231573343276978, -1.4103615283966064]</td>\n",
       "      <td>[0.10565836727619171, 0.10565836727619171]</td>\n",
       "      <td>[1, -1]</td>\n",
       "    </tr>\n",
       "    <tr>\n",
       "      <th>9999</th>\n",
       "      <td>2</td>\n",
       "      <td>[39.6421012878418, 42.273067474365234]</td>\n",
       "      <td>[-2.0905749797821045, -1.0396558046340942]</td>\n",
       "      <td>[2.210127592086792, -0.9990832209587097]</td>\n",
       "      <td>[0.10565836727619171, 0.10565836727619171]</td>\n",
       "      <td>[1, -1]</td>\n",
       "    </tr>\n",
       "  </tbody>\n",
       "</table>\n",
       "<p>10000 rows × 6 columns</p>\n",
       "</div>"
      ],
      "text/plain": [
       "      nMuon                                            Muon_pt  \\\n",
       "0         2           [10.763696670532227, 15.736522674560547]   \n",
       "1         2           [10.538490295410156, 16.327096939086914]   \n",
       "2         1                               [3.2753264904022217]   \n",
       "3         4  [11.429154396057129, 17.634033203125, 9.624728...   \n",
       "4         4  [3.2834417819976807, 3.64400577545166, 32.9112...   \n",
       "...     ...                                                ...   \n",
       "9995      2            [26.859142303466797, 9.353170394897461]   \n",
       "9996      2            [9.003849029541016, 14.049983978271484]   \n",
       "9997      2            [30.238283157348633, 13.03593635559082]   \n",
       "9998      2             [17.35597038269043, 15.87411880493164]   \n",
       "9999      2             [39.6421012878418, 42.273067474365234]   \n",
       "\n",
       "                                               Muon_eta  \\\n",
       "0              [1.0668272972106934, -0.563786506652832]   \n",
       "1           [-0.42778006196022034, 0.34922507405281067]   \n",
       "2                                   [2.210855484008789]   \n",
       "3     [-1.5882395505905151, -1.7511844635009766, -1....   \n",
       "4     [-2.1724836826324463, -2.18253493309021, -1.12...   \n",
       "...                                                 ...   \n",
       "9995            [1.930126667022705, 1.9606289863586426]   \n",
       "9996           [1.7759391069412231, 1.0048433542251587]   \n",
       "9997           [-1.198452353477478, -2.027805805206299]   \n",
       "9998         [-0.8361367583274841, -0.8279833793640137]   \n",
       "9999         [-2.0905749797821045, -1.0396558046340942]   \n",
       "\n",
       "                                               Muon_phi  \\\n",
       "0            [-0.03427272289991379, 2.5426154136657715]   \n",
       "1              [-0.2747921049594879, 2.539781332015991]   \n",
       "2                                 [-1.2234135866165161]   \n",
       "3     [-2.0773041248321533, 0.25135836005210876, -2....   \n",
       "4     [-2.3700082302093506, -2.3051390647888184, -0....   \n",
       "...                                                 ...   \n",
       "9995             [2.006714105606079, 1.871167540550232]   \n",
       "9996          [-0.8459293246269226, 2.2061259746551514]   \n",
       "9997          [-2.2813563346862793, 0.6028729677200317]   \n",
       "9998         [-1.4231573343276978, -1.4103615283966064]   \n",
       "9999           [2.210127592086792, -0.9990832209587097]   \n",
       "\n",
       "                                              Muon_mass     Muon_charge  \n",
       "0            [0.10565836727619171, 0.10565836727619171]        [-1, -1]  \n",
       "1            [0.10565836727619171, 0.10565836727619171]         [1, -1]  \n",
       "2                                 [0.10565836727619171]             [1]  \n",
       "3     [0.10565836727619171, 0.10565836727619171, 0.1...    [1, 1, 1, 1]  \n",
       "4     [0.10565836727619171, 0.10565836727619171, 0.1...  [-1, -1, 1, 1]  \n",
       "...                                                 ...             ...  \n",
       "9995         [0.10565836727619171, 0.10565836727619171]         [1, -1]  \n",
       "9996         [0.10565836727619171, 0.10565836727619171]         [-1, 1]  \n",
       "9997         [0.10565836727619171, 0.10565836727619171]         [1, -1]  \n",
       "9998         [0.10565836727619171, 0.10565836727619171]         [1, -1]  \n",
       "9999         [0.10565836727619171, 0.10565836727619171]         [1, -1]  \n",
       "\n",
       "[10000 rows x 6 columns]"
      ]
     },
     "execution_count": 56,
     "metadata": {},
     "output_type": "execute_result"
    }
   ],
   "source": [
    "tree[\"nMuon\"].array(library=\"np\", entry_stop=10000)\n",
    "\n",
    "tree.arrays(library=\"np\", entry_stop=10000)\n",
    "\n",
    "tree.arrays(library=\"pd\", entry_stop=10000)"
   ]
  },
  {
   "cell_type": "code",
   "execution_count": 57,
   "id": "bb07e079-6c42-4287-870a-6b968dfd0e11",
   "metadata": {},
   "outputs": [],
   "source": [
    "cut = muons[\"nMuon\"] == 2\n",
    "\n",
    "pt0 = muons[\"Muon_pt\", cut, 0]"
   ]
  },
  {
   "cell_type": "code",
   "execution_count": 58,
   "id": "2ad68e94-ea13-4954-986b-48c67f4d784a",
   "metadata": {},
   "outputs": [
    {
     "ename": "ValueError",
     "evalue": "setting an array element with a sequence. The requested array has an inhomogeneous shape after 1 dimensions. The detected shape was (5,) + inhomogeneous part.",
     "output_type": "error",
     "traceback": [
      "\u001b[0;31m---------------------------------------------------------------------------\u001b[0m",
      "\u001b[0;31mValueError\u001b[0m                                Traceback (most recent call last)",
      "Cell \u001b[0;32mIn[58], line 4\u001b[0m\n\u001b[1;32m      1\u001b[0m \u001b[38;5;28;01mimport\u001b[39;00m \u001b[38;5;21;01mnumpy\u001b[39;00m \u001b[38;5;28;01mas\u001b[39;00m \u001b[38;5;21;01mnp\u001b[39;00m\n\u001b[1;32m      3\u001b[0m \u001b[38;5;66;03m# generates a ValueError\u001b[39;00m\n\u001b[0;32m----> 4\u001b[0m np\u001b[38;5;241m.\u001b[39marray([[\u001b[38;5;241m0.0\u001b[39m, \u001b[38;5;241m1.1\u001b[39m, \u001b[38;5;241m2.2\u001b[39m], [], [\u001b[38;5;241m3.3\u001b[39m, \u001b[38;5;241m4.4\u001b[39m], [\u001b[38;5;241m5.5\u001b[39m], [\u001b[38;5;241m6.6\u001b[39m, \u001b[38;5;241m7.7\u001b[39m, \u001b[38;5;241m8.8\u001b[39m, \u001b[38;5;241m9.9\u001b[39m]])\n",
      "\u001b[0;31mValueError\u001b[0m: setting an array element with a sequence. The requested array has an inhomogeneous shape after 1 dimensions. The detected shape was (5,) + inhomogeneous part."
     ]
    }
   ],
   "source": [
    "import numpy as np\n",
    "\n",
    "# generates a ValueError\n",
    "np.array([[0.0, 1.1, 2.2], [], [3.3, 4.4], [5.5], [6.6, 7.7, 8.8, 9.9]])"
   ]
  },
  {
   "cell_type": "code",
   "execution_count": 59,
   "id": "5862761a-5a50-4643-b497-54467c726bb4",
   "metadata": {},
   "outputs": [
    {
     "data": {
      "text/html": [
       "<pre>[[0, 1.1, 2.2],\n",
       " [],\n",
       " [3.3, 4.4],\n",
       " [5.5],\n",
       " [6.6, 7.7, 8.8, 9.9]]\n",
       "-----------------------\n",
       "type: 5 * var * float64</pre>"
      ],
      "text/plain": [
       "<Array [[0, 1.1, 2.2], [], ..., [6.6, 7.7, 8.8, 9.9]] type='5 * var * float64'>"
      ]
     },
     "execution_count": 59,
     "metadata": {},
     "output_type": "execute_result"
    }
   ],
   "source": [
    "import awkward as ak\n",
    "\n",
    "ak.Array([[0.0, 1.1, 2.2], [], [3.3, 4.4], [5.5], [6.6, 7.7, 8.8, 9.9]])"
   ]
  },
  {
   "cell_type": "code",
   "execution_count": 60,
   "id": "56050e24-e25b-47fc-90ce-aa7bb262f8e3",
   "metadata": {},
   "outputs": [
    {
     "ename": "IndexError",
     "evalue": "cannot slice ListArray (of length 5) with array(0): index out of range while attempting to get index 0 (in compiled code: https://github.com/scikit-hep/awkward/blob/awkward-cpp-29/awkward-cpp/src/cpu-kernels/awkward_ListArray_getitem_next_at.cpp#L21)",
     "output_type": "error",
     "traceback": [
      "\u001b[0;31m---------------------------------------------------------------------------\u001b[0m",
      "\u001b[0;31mIndexError\u001b[0m                                Traceback (most recent call last)",
      "Cell \u001b[0;32mIn[60], line 8\u001b[0m\n\u001b[1;32m      6\u001b[0m array[\u001b[38;5;241m2\u001b[39m:, \u001b[38;5;241m0\u001b[39m]\n\u001b[1;32m      7\u001b[0m array[\u001b[38;5;241m2\u001b[39m:, \u001b[38;5;241m1\u001b[39m:]\n\u001b[0;32m----> 8\u001b[0m array[:, \u001b[38;5;241m0\u001b[39m]\n",
      "File \u001b[0;32m/opt/anaconda3/lib/python3.11/site-packages/awkward/highlevel.py:1062\u001b[0m, in \u001b[0;36mArray.__getitem__\u001b[0;34m(self, where)\u001b[0m\n\u001b[1;32m    632\u001b[0m \u001b[38;5;250m\u001b[39m\u001b[38;5;124;03m\"\"\"\u001b[39;00m\n\u001b[1;32m    633\u001b[0m \u001b[38;5;124;03mArgs:\u001b[39;00m\n\u001b[1;32m    634\u001b[0m \u001b[38;5;124;03m    where (many types supported; see below): Index of positions to\u001b[39;00m\n\u001b[0;32m   (...)\u001b[0m\n\u001b[1;32m   1058\u001b[0m \u001b[38;5;124;03mhave the same dimension as the array being indexed.\u001b[39;00m\n\u001b[1;32m   1059\u001b[0m \u001b[38;5;124;03m\"\"\"\u001b[39;00m\n\u001b[1;32m   1060\u001b[0m \u001b[38;5;28;01mwith\u001b[39;00m ak\u001b[38;5;241m.\u001b[39m_errors\u001b[38;5;241m.\u001b[39mSlicingErrorContext(\u001b[38;5;28mself\u001b[39m, where):\n\u001b[1;32m   1061\u001b[0m     \u001b[38;5;28;01mreturn\u001b[39;00m wrap_layout(\n\u001b[0;32m-> 1062\u001b[0m         prepare_layout(\u001b[38;5;28mself\u001b[39m\u001b[38;5;241m.\u001b[39m_layout[where]),\n\u001b[1;32m   1063\u001b[0m         \u001b[38;5;28mself\u001b[39m\u001b[38;5;241m.\u001b[39m_behavior,\n\u001b[1;32m   1064\u001b[0m         allow_other\u001b[38;5;241m=\u001b[39m\u001b[38;5;28;01mTrue\u001b[39;00m,\n\u001b[1;32m   1065\u001b[0m         attrs\u001b[38;5;241m=\u001b[39m\u001b[38;5;28mself\u001b[39m\u001b[38;5;241m.\u001b[39m_attrs,\n\u001b[1;32m   1066\u001b[0m     )\n",
      "File \u001b[0;32m/opt/anaconda3/lib/python3.11/site-packages/awkward/contents/content.py:519\u001b[0m, in \u001b[0;36mContent.__getitem__\u001b[0;34m(self, where)\u001b[0m\n\u001b[1;32m    518\u001b[0m \u001b[38;5;28;01mdef\u001b[39;00m \u001b[38;5;21m__getitem__\u001b[39m(\u001b[38;5;28mself\u001b[39m, where):\n\u001b[0;32m--> 519\u001b[0m     \u001b[38;5;28;01mreturn\u001b[39;00m \u001b[38;5;28mself\u001b[39m\u001b[38;5;241m.\u001b[39m_getitem(where)\n",
      "File \u001b[0;32m/opt/anaconda3/lib/python3.11/site-packages/awkward/contents/content.py:564\u001b[0m, in \u001b[0;36mContent._getitem\u001b[0;34m(self, where)\u001b[0m\n\u001b[1;32m    555\u001b[0m nextwhere \u001b[38;5;241m=\u001b[39m ak\u001b[38;5;241m.\u001b[39m_slicing\u001b[38;5;241m.\u001b[39mprepare_advanced_indexing(items, backend)\n\u001b[1;32m    557\u001b[0m \u001b[38;5;28mnext\u001b[39m \u001b[38;5;241m=\u001b[39m ak\u001b[38;5;241m.\u001b[39mcontents\u001b[38;5;241m.\u001b[39mRegularArray(\n\u001b[1;32m    558\u001b[0m     this,\n\u001b[1;32m    559\u001b[0m     this\u001b[38;5;241m.\u001b[39mlength,\n\u001b[1;32m    560\u001b[0m     \u001b[38;5;241m1\u001b[39m,\n\u001b[1;32m    561\u001b[0m     parameters\u001b[38;5;241m=\u001b[39m\u001b[38;5;28;01mNone\u001b[39;00m,\n\u001b[1;32m    562\u001b[0m )\n\u001b[0;32m--> 564\u001b[0m out \u001b[38;5;241m=\u001b[39m \u001b[38;5;28mnext\u001b[39m\u001b[38;5;241m.\u001b[39m_getitem_next(nextwhere[\u001b[38;5;241m0\u001b[39m], nextwhere[\u001b[38;5;241m1\u001b[39m:], \u001b[38;5;28;01mNone\u001b[39;00m)\n\u001b[1;32m    566\u001b[0m \u001b[38;5;28;01mif\u001b[39;00m out\u001b[38;5;241m.\u001b[39mlength \u001b[38;5;129;01mis\u001b[39;00m \u001b[38;5;129;01mnot\u001b[39;00m unknown_length \u001b[38;5;129;01mand\u001b[39;00m out\u001b[38;5;241m.\u001b[39mlength \u001b[38;5;241m==\u001b[39m \u001b[38;5;241m0\u001b[39m:\n\u001b[1;32m    567\u001b[0m     \u001b[38;5;28;01mreturn\u001b[39;00m out\u001b[38;5;241m.\u001b[39m_getitem_nothing()\n",
      "File \u001b[0;32m/opt/anaconda3/lib/python3.11/site-packages/awkward/contents/regulararray.py:529\u001b[0m, in \u001b[0;36mRegularArray._getitem_next\u001b[0;34m(self, head, tail, advanced)\u001b[0m\n\u001b[1;32m    523\u001b[0m nextcontent \u001b[38;5;241m=\u001b[39m \u001b[38;5;28mself\u001b[39m\u001b[38;5;241m.\u001b[39m_content\u001b[38;5;241m.\u001b[39m_carry(nextcarry, \u001b[38;5;28;01mTrue\u001b[39;00m)\n\u001b[1;32m    525\u001b[0m \u001b[38;5;28;01mif\u001b[39;00m advanced \u001b[38;5;129;01mis\u001b[39;00m \u001b[38;5;28;01mNone\u001b[39;00m \u001b[38;5;129;01mor\u001b[39;00m (\n\u001b[1;32m    526\u001b[0m     advanced\u001b[38;5;241m.\u001b[39mlength \u001b[38;5;129;01mis\u001b[39;00m \u001b[38;5;129;01mnot\u001b[39;00m unknown_length \u001b[38;5;129;01mand\u001b[39;00m advanced\u001b[38;5;241m.\u001b[39mlength \u001b[38;5;241m==\u001b[39m \u001b[38;5;241m0\u001b[39m\n\u001b[1;32m    527\u001b[0m ):\n\u001b[1;32m    528\u001b[0m     \u001b[38;5;28;01mreturn\u001b[39;00m RegularArray(\n\u001b[0;32m--> 529\u001b[0m         nextcontent\u001b[38;5;241m.\u001b[39m_getitem_next(nexthead, nexttail, advanced),\n\u001b[1;32m    530\u001b[0m         nextsize,\n\u001b[1;32m    531\u001b[0m         \u001b[38;5;28mself\u001b[39m\u001b[38;5;241m.\u001b[39m_length,\n\u001b[1;32m    532\u001b[0m         parameters\u001b[38;5;241m=\u001b[39m\u001b[38;5;28mself\u001b[39m\u001b[38;5;241m.\u001b[39m_parameters,\n\u001b[1;32m    533\u001b[0m     )\n\u001b[1;32m    534\u001b[0m \u001b[38;5;28;01melse\u001b[39;00m:\n\u001b[1;32m    535\u001b[0m     nextadvanced \u001b[38;5;241m=\u001b[39m ak\u001b[38;5;241m.\u001b[39mindex\u001b[38;5;241m.\u001b[39mIndex64\u001b[38;5;241m.\u001b[39mempty(nextcarry\u001b[38;5;241m.\u001b[39mlength, index_nplike)\n",
      "File \u001b[0;32m/opt/anaconda3/lib/python3.11/site-packages/awkward/contents/listarray.py:730\u001b[0m, in \u001b[0;36mListArray._getitem_next\u001b[0;34m(self, head, tail, advanced)\u001b[0m\n\u001b[1;32m    724\u001b[0m nextcarry \u001b[38;5;241m=\u001b[39m ak\u001b[38;5;241m.\u001b[39mindex\u001b[38;5;241m.\u001b[39mIndex64\u001b[38;5;241m.\u001b[39mempty(lenstarts, \u001b[38;5;28mself\u001b[39m\u001b[38;5;241m.\u001b[39m_backend\u001b[38;5;241m.\u001b[39mindex_nplike)\n\u001b[1;32m    725\u001b[0m \u001b[38;5;28;01massert\u001b[39;00m (\n\u001b[1;32m    726\u001b[0m     nextcarry\u001b[38;5;241m.\u001b[39mnplike \u001b[38;5;129;01mis\u001b[39;00m \u001b[38;5;28mself\u001b[39m\u001b[38;5;241m.\u001b[39m_backend\u001b[38;5;241m.\u001b[39mindex_nplike\n\u001b[1;32m    727\u001b[0m     \u001b[38;5;129;01mand\u001b[39;00m \u001b[38;5;28mself\u001b[39m\u001b[38;5;241m.\u001b[39m_starts\u001b[38;5;241m.\u001b[39mnplike \u001b[38;5;129;01mis\u001b[39;00m \u001b[38;5;28mself\u001b[39m\u001b[38;5;241m.\u001b[39m_backend\u001b[38;5;241m.\u001b[39mindex_nplike\n\u001b[1;32m    728\u001b[0m     \u001b[38;5;129;01mand\u001b[39;00m \u001b[38;5;28mself\u001b[39m\u001b[38;5;241m.\u001b[39m_stops\u001b[38;5;241m.\u001b[39mnplike \u001b[38;5;129;01mis\u001b[39;00m \u001b[38;5;28mself\u001b[39m\u001b[38;5;241m.\u001b[39m_backend\u001b[38;5;241m.\u001b[39mindex_nplike\n\u001b[1;32m    729\u001b[0m )\n\u001b[0;32m--> 730\u001b[0m \u001b[38;5;28mself\u001b[39m\u001b[38;5;241m.\u001b[39m_maybe_index_error(\n\u001b[1;32m    731\u001b[0m     \u001b[38;5;28mself\u001b[39m\u001b[38;5;241m.\u001b[39m_backend[\n\u001b[1;32m    732\u001b[0m         \u001b[38;5;124m\"\u001b[39m\u001b[38;5;124mawkward_ListArray_getitem_next_at\u001b[39m\u001b[38;5;124m\"\u001b[39m,\n\u001b[1;32m    733\u001b[0m         nextcarry\u001b[38;5;241m.\u001b[39mdtype\u001b[38;5;241m.\u001b[39mtype,\n\u001b[1;32m    734\u001b[0m         \u001b[38;5;28mself\u001b[39m\u001b[38;5;241m.\u001b[39m_starts\u001b[38;5;241m.\u001b[39mdtype\u001b[38;5;241m.\u001b[39mtype,\n\u001b[1;32m    735\u001b[0m         \u001b[38;5;28mself\u001b[39m\u001b[38;5;241m.\u001b[39m_stops\u001b[38;5;241m.\u001b[39mdtype\u001b[38;5;241m.\u001b[39mtype,\n\u001b[1;32m    736\u001b[0m     ](\n\u001b[1;32m    737\u001b[0m         nextcarry\u001b[38;5;241m.\u001b[39mdata,\n\u001b[1;32m    738\u001b[0m         \u001b[38;5;28mself\u001b[39m\u001b[38;5;241m.\u001b[39m_starts\u001b[38;5;241m.\u001b[39mdata,\n\u001b[1;32m    739\u001b[0m         \u001b[38;5;28mself\u001b[39m\u001b[38;5;241m.\u001b[39m_stops\u001b[38;5;241m.\u001b[39mdata,\n\u001b[1;32m    740\u001b[0m         lenstarts,\n\u001b[1;32m    741\u001b[0m         head,\n\u001b[1;32m    742\u001b[0m     ),\n\u001b[1;32m    743\u001b[0m     slicer\u001b[38;5;241m=\u001b[39mhead,\n\u001b[1;32m    744\u001b[0m )\n\u001b[1;32m    745\u001b[0m nextcontent \u001b[38;5;241m=\u001b[39m \u001b[38;5;28mself\u001b[39m\u001b[38;5;241m.\u001b[39m_content\u001b[38;5;241m.\u001b[39m_carry(nextcarry, \u001b[38;5;28;01mTrue\u001b[39;00m)\n\u001b[1;32m    746\u001b[0m \u001b[38;5;28;01mreturn\u001b[39;00m nextcontent\u001b[38;5;241m.\u001b[39m_getitem_next(nexthead, nexttail, advanced)\n",
      "File \u001b[0;32m/opt/anaconda3/lib/python3.11/site-packages/awkward/contents/content.py:282\u001b[0m, in \u001b[0;36mContent._maybe_index_error\u001b[0;34m(self, error, slicer)\u001b[0m\n\u001b[1;32m    280\u001b[0m \u001b[38;5;28;01melse\u001b[39;00m:\n\u001b[1;32m    281\u001b[0m     message \u001b[38;5;241m=\u001b[39m \u001b[38;5;28mself\u001b[39m\u001b[38;5;241m.\u001b[39m_backend\u001b[38;5;241m.\u001b[39mformat_kernel_error(error)\n\u001b[0;32m--> 282\u001b[0m     \u001b[38;5;28;01mraise\u001b[39;00m ak\u001b[38;5;241m.\u001b[39m_errors\u001b[38;5;241m.\u001b[39mindex_error(\u001b[38;5;28mself\u001b[39m, slicer, message)\n",
      "\u001b[0;31mIndexError\u001b[0m: cannot slice ListArray (of length 5) with array(0): index out of range while attempting to get index 0 (in compiled code: https://github.com/scikit-hep/awkward/blob/awkward-cpp-29/awkward-cpp/src/cpu-kernels/awkward_ListArray_getitem_next_at.cpp#L21)",
      "\u001b[0m\nThis error occurred while attempting to slice\n\n    <Array [[0, 1.1, 2.2], ..., [6.6, 7.7, ..., 9.9]] type='5 * var * float64'>\n\nwith\n\n    (:, 0)"
     ]
    }
   ],
   "source": [
    "array = ak.Array([[0.0, 1.1, 2.2], [], [3.3, 4.4], [5.5], [6.6, 7.7, 8.8, 9.9]])\n",
    "array.tolist()\n",
    "\n",
    "array[2]\n",
    "array[-1, 1]\n",
    "array[2:, 0]\n",
    "array[2:, 1:]\n",
    "array[:, 0]\n"
   ]
  },
  {
   "cell_type": "code",
   "execution_count": 63,
   "id": "c687c996-ceaa-48ab-aa5f-5996dc28ae64",
   "metadata": {},
   "outputs": [
    {
     "data": {
      "text/html": [
       "<pre>[[3.3, 4.4],\n",
       " [5.5],\n",
       " [5.5],\n",
       " []]\n",
       "-----------------------\n",
       "type: 4 * var * float64</pre>"
      ],
      "text/plain": [
       "<Array [[3.3, 4.4], [5.5], [5.5], []] type='4 * var * float64'>"
      ]
     },
     "execution_count": 63,
     "metadata": {},
     "output_type": "execute_result"
    }
   ],
   "source": [
    "array[[True, False, True, False, True]]\n",
    "\n",
    "array[[2, 3, 3, 1]]"
   ]
  },
  {
   "cell_type": "code",
   "execution_count": 64,
   "id": "c6181089-596f-4c38-b784-bca6d0161f11",
   "metadata": {},
   "outputs": [
    {
     "data": {
      "text/html": [
       "<pre>[1.1,\n",
       " 4.4,\n",
       " 7.7]\n",
       "-----------------\n",
       "type: 3 * float64</pre>"
      ],
      "text/plain": [
       "<Array [1.1, 4.4, 7.7] type='3 * float64'>"
      ]
     },
     "execution_count": 64,
     "metadata": {},
     "output_type": "execute_result"
    }
   ],
   "source": [
    "ak.num(array)\n",
    "\n",
    "ak.num(array) > 0\n",
    "\n",
    "array[ak.num(array) > 0, 0]\n",
    "array[ak.num(array) > 1, 1]\n"
   ]
  },
  {
   "cell_type": "code",
   "execution_count": 65,
   "id": "ff7dff24-e15e-486f-9188-a2a34e55fce7",
   "metadata": {},
   "outputs": [
    {
     "data": {
      "text/html": [
       "<pre>[[0, 2.2],\n",
       " [],\n",
       " [4.4],\n",
       " [],\n",
       " [6.6, 8.8]]\n",
       "-----------------------\n",
       "type: 5 * var * float64</pre>"
      ],
      "text/plain": [
       "<Array [[0, 2.2], [], [4.4], [], [6.6, 8.8]] type='5 * var * float64'>"
      ]
     },
     "execution_count": 65,
     "metadata": {},
     "output_type": "execute_result"
    }
   ],
   "source": [
    "cut = array * 10 % 2 == 0\n",
    "\n",
    "array[cut]"
   ]
  },
  {
   "cell_type": "code",
   "execution_count": 66,
   "id": "1d269d59-3ae3-4dce-9e0d-27309d869553",
   "metadata": {},
   "outputs": [],
   "source": [
    "import uproot\n",
    "\n",
    "file = uproot.open(\n",
    "    \"root://eospublic.cern.ch//eos/opendata/cms/derived-data/AOD2NanoAODOutreachTool/Run2012BC_DoubleMuParked_Muons.root\"\n",
    ")\n",
    "tree = file[\"Events\"]\n",
    "\n",
    "muon_pt = tree[\"Muon_pt\"].array(entry_stop=10)"
   ]
  },
  {
   "cell_type": "code",
   "execution_count": 67,
   "id": "4766b656-7006-4be2-a9a0-295d7c809a9c",
   "metadata": {},
   "outputs": [
    {
     "data": {
      "text/html": [
       "<pre>[[],\n",
       " [],\n",
       " [],\n",
       " [],\n",
       " [32.9, 23.7],\n",
       " [],\n",
       " [57.6, 53],\n",
       " [23.9],\n",
       " [],\n",
       " []]\n",
       "------------------------\n",
       "type: 10 * var * float32</pre>"
      ],
      "text/plain": [
       "<Array [[], [], [], [], ..., [...], [23.9], [], []] type='10 * var * float32'>"
      ]
     },
     "execution_count": 67,
     "metadata": {},
     "output_type": "execute_result"
    }
   ],
   "source": [
    "particle_cut = muon_pt > 20\n",
    "\n",
    "muon_pt[particle_cut]"
   ]
  },
  {
   "cell_type": "code",
   "execution_count": 68,
   "id": "ba92a95a-1b32-4a62-96b5-1963906cd981",
   "metadata": {},
   "outputs": [
    {
     "data": {
      "text/html": [
       "<pre>[[3.28, 3.64, 32.9, 23.7],\n",
       " [57.6, 53],\n",
       " [11.3, 23.9]]\n",
       "--------------------------\n",
       "type: 3 * var * float32</pre>"
      ],
      "text/plain": [
       "<Array [[3.28, 3.64, 32.9, 23.7], ..., [11.3, ...]] type='3 * var * float32'>"
      ]
     },
     "execution_count": 68,
     "metadata": {},
     "output_type": "execute_result"
    }
   ],
   "source": [
    "event_cut = ak.any(muon_pt > 20, axis=1)\n",
    "\n",
    "muon_pt[event_cut]"
   ]
  },
  {
   "cell_type": "code",
   "execution_count": 69,
   "id": "ded09c10-ea7b-4704-bd86-5141e8015408",
   "metadata": {},
   "outputs": [],
   "source": [
    "cleaned = muon_pt[particle_cut]"
   ]
  },
  {
   "cell_type": "code",
   "execution_count": 70,
   "id": "55e89d58-533f-4975-8669-11f03621d00a",
   "metadata": {},
   "outputs": [],
   "source": [
    "numbers = ak.Array([[1, 2, 3], [], [5, 7], [11]])\n",
    "letters = ak.Array([[\"a\", \"b\"], [\"c\"], [\"d\"], [\"e\", \"f\"]])\n",
    "\n",
    "pairs = ak.cartesian((numbers, letters))"
   ]
  },
  {
   "cell_type": "code",
   "execution_count": 71,
   "id": "c8e5bb97-4383-4a83-b9c4-ef89d278f36d",
   "metadata": {},
   "outputs": [
    {
     "data": {
      "text/html": [
       "<pre>[[&#x27;a&#x27;, &#x27;b&#x27;, &#x27;a&#x27;, &#x27;b&#x27;, &#x27;a&#x27;, &#x27;b&#x27;],\n",
       " [],\n",
       " [&#x27;d&#x27;, &#x27;d&#x27;],\n",
       " [&#x27;e&#x27;, &#x27;f&#x27;]]\n",
       "--------------------------------\n",
       "type: 4 * var * string</pre>"
      ],
      "text/plain": [
       "<Array [['a', 'b', 'a', 'b', 'a', 'b'], [], ..., [...]] type='4 * var * string'>"
      ]
     },
     "execution_count": 71,
     "metadata": {},
     "output_type": "execute_result"
    }
   ],
   "source": [
    "pairs[\"0\"]\n",
    "pairs[\"1\"]"
   ]
  },
  {
   "cell_type": "code",
   "execution_count": 72,
   "id": "57828d73-744a-4823-a6df-df780edbfd05",
   "metadata": {},
   "outputs": [
    {
     "data": {
      "text/html": [
       "<pre>[[&#x27;a&#x27;, &#x27;b&#x27;, &#x27;a&#x27;, &#x27;b&#x27;, &#x27;a&#x27;, &#x27;b&#x27;],\n",
       " [],\n",
       " [&#x27;d&#x27;, &#x27;d&#x27;],\n",
       " [&#x27;e&#x27;, &#x27;f&#x27;]]\n",
       "--------------------------------\n",
       "type: 4 * var * string</pre>"
      ],
      "text/plain": [
       "<Array [['a', 'b', 'a', 'b', 'a', 'b'], [], ..., [...]] type='4 * var * string'>"
      ]
     },
     "execution_count": 72,
     "metadata": {},
     "output_type": "execute_result"
    }
   ],
   "source": [
    "lefts, rights = ak.unzip(pairs)\n",
    "lefts\n",
    "rights\n"
   ]
  },
  {
   "cell_type": "code",
   "execution_count": 92,
   "id": "dd3e0332-b24a-4ed5-b159-13dc450e8431",
   "metadata": {},
   "outputs": [
    {
     "data": {
      "text/html": [
       "<pre>[[2, 3, 6],\n",
       " [],\n",
       " [35],\n",
       " []]\n",
       "---------------------\n",
       "type: 4 * var * int64</pre>"
      ],
      "text/plain": [
       "<Array [[2, 3, 6], [], [35], []] type='4 * var * int64'>"
      ]
     },
     "execution_count": 92,
     "metadata": {},
     "output_type": "execute_result"
    }
   ],
   "source": [
    "pairs = ak.combinations(numbers, 2)\n",
    "pairs\n",
    "\n",
    "lefts, rights = ak.unzip(pairs)\n",
    "\n",
    "lefts * rights  # they line up, so we can compute formulas"
   ]
  },
  {
   "cell_type": "code",
   "execution_count": 93,
   "id": "bc785619-bba4-4ae8-b39a-cce9283492b9",
   "metadata": {},
   "outputs": [
    {
     "data": {
      "text/plain": [
       "ArrayType(ListType(RecordType([NumpyType('float32'), NumpyType('float32'), NumpyType('float32'), NumpyType('int32')], ['pt', 'eta', 'phi', 'charge'])), 10000, None)"
      ]
     },
     "execution_count": 93,
     "metadata": {},
     "output_type": "execute_result"
    }
   ],
   "source": [
    "import uproot\n",
    "import awkward as ak\n",
    "\n",
    "file = uproot.open(\n",
    "    \"root://eospublic.cern.ch//eos/opendata/cms/derived-data/AOD2NanoAODOutreachTool/Run2012BC_DoubleMuParked_Muons.root\"\n",
    ")\n",
    "tree = file[\"Events\"]\n",
    "\n",
    "arrays = tree.arrays(filter_name=\"/Muon_(pt|eta|phi|charge)/\", entry_stop=10000)\n",
    "\n",
    "muons = ak.zip(\n",
    "    {\n",
    "        \"pt\": arrays[\"Muon_pt\"],\n",
    "        \"eta\": arrays[\"Muon_eta\"],\n",
    "        \"phi\": arrays[\"Muon_phi\"],\n",
    "        \"charge\": arrays[\"Muon_charge\"],\n",
    "    }\n",
    ")\n",
    "\n",
    "arrays.type\n",
    "muons.type"
   ]
  },
  {
   "cell_type": "code",
   "execution_count": 94,
   "id": "6261ef86-d2dd-4d6a-96ab-84dfaeeeee94",
   "metadata": {},
   "outputs": [
    {
     "data": {
      "text/plain": [
       "ArrayType(ListType(RecordType([RecordType([NumpyType('float32'), NumpyType('float32'), NumpyType('float32'), NumpyType('int32')], ['pt', 'eta', 'phi', 'charge']), RecordType([NumpyType('float32'), NumpyType('float32'), NumpyType('float32'), NumpyType('int32')], ['pt', 'eta', 'phi', 'charge'])], None)), 10000, None)"
      ]
     },
     "execution_count": 94,
     "metadata": {},
     "output_type": "execute_result"
    }
   ],
   "source": [
    "pairs = ak.combinations(muons, 2)\n",
    "\n",
    "pairs.type"
   ]
  },
  {
   "cell_type": "code",
   "execution_count": 95,
   "id": "8192abb6-913d-44dd-bfd4-530f9c34c919",
   "metadata": {},
   "outputs": [],
   "source": [
    "mu1, mu2 = ak.unzip(pairs)"
   ]
  },
  {
   "cell_type": "code",
   "execution_count": 96,
   "id": "00ce0b2c-983a-460b-a8b4-cf9e46319cd4",
   "metadata": {},
   "outputs": [],
   "source": [
    "import numpy as np\n",
    "\n",
    "mass = np.sqrt(\n",
    "    2 * mu1.pt * mu2.pt * (np.cosh(mu1.eta - mu2.eta) - np.cos(mu1.phi - mu2.phi))\n",
    ")"
   ]
  },
  {
   "cell_type": "code",
   "execution_count": 97,
   "id": "d8f8ed88-29d9-44e1-892a-5e5b9aaa4d23",
   "metadata": {},
   "outputs": [
    {
     "data": {
      "text/plain": [
       "[StairsArtists(stairs=<matplotlib.patches.StepPatch object at 0x144ae2490>, errorbar=<ErrorbarContainer object of 3 artists>, legend_artist=<ErrorbarContainer object of 3 artists>)]"
      ]
     },
     "execution_count": 97,
     "metadata": {},
     "output_type": "execute_result"
    },
    {
     "data": {
      "image/png": "[encoded data removed]",
      "text/plain": [
       "<Figure size 640x480 with 1 Axes>"
      ]
     },
     "metadata": {},
     "output_type": "display_data"
    }
   ],
   "source": [
    "import hist\n",
    "\n",
    "hist.Hist(hist.axis.Regular(120, 0, 120, label=\"mass [GeV]\")).fill(\n",
    "    ak.ravel(mass)\n",
    ").plot()\n"
   ]
  },
  {
   "cell_type": "code",
   "execution_count": 98,
   "id": "67d5104f-0251-46fb-8b99-5b0542661142",
   "metadata": {},
   "outputs": [
    {
     "data": {
      "text/html": [
       "<pre>[34.4,\n",
       " 27.9,\n",
       " None,\n",
       " 26.2,\n",
       " 18.2,\n",
       " 4.52,\n",
       " 114,\n",
       " 1.57,\n",
       " 23.7,\n",
       " 0.696,\n",
       " ...,\n",
       " 3.36,\n",
       " 3.53,\n",
       " 4.26,\n",
       " 3.05,\n",
       " 2.2,\n",
       " 24.2,\n",
       " 42.9,\n",
       " 0.252,\n",
       " 93.4]\n",
       "----------------------\n",
       "type: 10000 * ?float32</pre>"
      ],
      "text/plain": [
       "<Array [34.4, 27.9, None, 26.2, ..., 42.9, 0.252, 93.4] type='10000 * ?float32'>"
      ]
     },
     "execution_count": 98,
     "metadata": {},
     "output_type": "execute_result"
    }
   ],
   "source": [
    "ak.max(mass, axis=1)"
   ]
  },
  {
   "cell_type": "code",
   "execution_count": 99,
   "id": "bbce2ac2-b592-4492-bcae-f8f7e0970c3b",
   "metadata": {},
   "outputs": [
    {
     "data": {
      "text/html": [
       "<pre>[34.4,\n",
       " 27.9,\n",
       " 26.2,\n",
       " 18.2,\n",
       " 4.52,\n",
       " 114,\n",
       " 1.57,\n",
       " 23.7,\n",
       " 0.696,\n",
       " 27.1,\n",
       " ...,\n",
       " 3.36,\n",
       " 3.53,\n",
       " 4.26,\n",
       " 3.05,\n",
       " 2.2,\n",
       " 24.2,\n",
       " 42.9,\n",
       " 0.252,\n",
       " 93.4]\n",
       "--------------------\n",
       "type: 8880 * float32</pre>"
      ],
      "text/plain": [
       "<Array [34.4, 27.9, 26.2, 18.2, ..., 42.9, 0.252, 93.4] type='8880 * float32'>"
      ]
     },
     "execution_count": 99,
     "metadata": {},
     "output_type": "execute_result"
    }
   ],
   "source": [
    "ak.flatten(ak.max(mass, axis=1), axis=0)"
   ]
  },
  {
   "cell_type": "code",
   "execution_count": 100,
   "id": "03194d29-60cf-46c8-817b-30e81756bc62",
   "metadata": {},
   "outputs": [
    {
     "data": {
      "text/html": [
       "<pre>[34.4,\n",
       " 27.9,\n",
       " 26.2,\n",
       " 18.2,\n",
       " 4.52,\n",
       " 114,\n",
       " 1.57,\n",
       " 23.7,\n",
       " 0.696,\n",
       " 27.1,\n",
       " ...,\n",
       " 3.36,\n",
       " 3.53,\n",
       " 4.26,\n",
       " 3.05,\n",
       " 2.2,\n",
       " 24.2,\n",
       " 42.9,\n",
       " 0.252,\n",
       " 93.4]\n",
       "---------------------\n",
       "type: 8880 * ?float32</pre>"
      ],
      "text/plain": [
       "<Array [34.4, 27.9, 26.2, 18.2, ..., 42.9, 0.252, 93.4] type='8880 * ?float32'>"
      ]
     },
     "execution_count": 100,
     "metadata": {},
     "output_type": "execute_result"
    }
   ],
   "source": [
    "ak.max(mass[ak.num(mass) > 0], axis=1)"
   ]
  },
  {
   "cell_type": "code",
   "execution_count": 101,
   "id": "adecb6fe-bc07-4363-b0b3-f37ce71348db",
   "metadata": {},
   "outputs": [
    {
     "data": {
      "text/html": [
       "<pre>[[172, 89, 29, 69, 277, 1.64e+03, 24, 0, 2, 2],\n",
       " [0.389, 17.6, 34.7, 51.9, 69.1, 86.2, 103, 121, 138, 155, 172]]\n",
       "----------------------------------------------------------------\n",
       "type: 2 * var * float64</pre>"
      ],
      "text/plain": [
       "<Array [[172, 89, 29, 69, 277, ..., 24, 0, 2, 2], ...] type='2 * var * float64'>"
      ]
     },
     "execution_count": 101,
     "metadata": {},
     "output_type": "execute_result"
    }
   ],
   "source": [
    "import skhep_testdata, uproot\n",
    "\n",
    "tree = uproot.open(skhep_testdata.data_path(\"uproot-Zmumu.root\"))[\"events\"]\n",
    "\n",
    "import numpy as np\n",
    "\n",
    "np.histogram(tree[\"M\"].array())"
   ]
  },
  {
   "cell_type": "code",
   "execution_count": 102,
   "id": "61882f9c-0062-4ce6-9cc7-e4c1a2596018",
   "metadata": {},
   "outputs": [
    {
     "data": {
      "text/plain": [
       "(array([ 172.,   89.,   29.,   69.,  277., 1640.,   24.,    0.,    2.,\n",
       "           2.]),\n",
       " array([  0.38905792,  17.56032889,  34.73159987,  51.90287084,\n",
       "         69.07414181,  86.24541279, 103.41668376, 120.58795473,\n",
       "        137.75922571, 154.93049668, 172.10176766]),\n",
       " <BarContainer object of 10 artists>)"
      ]
     },
     "execution_count": 102,
     "metadata": {},
     "output_type": "execute_result"
    },
    {
     "data": {
      "image/png": "[encoded data removed]",
      "text/plain": [
       "<Figure size 640x480 with 1 Axes>"
      ]
     },
     "metadata": {},
     "output_type": "display_data"
    }
   ],
   "source": [
    "import matplotlib.pyplot as plt\n",
    "\n",
    "plt.hist(tree[\"M\"].array())"
   ]
  },
  {
   "cell_type": "code",
   "execution_count": 103,
   "id": "ab70b786-27ee-46ce-b4c0-72e9275928ee",
   "metadata": {},
   "outputs": [],
   "source": [
    "import boost_histogram as bh"
   ]
  },
  {
   "cell_type": "code",
   "execution_count": 104,
   "id": "6e78dc01-4a9d-42c6-b89e-75590b98db35",
   "metadata": {},
   "outputs": [
    {
     "data": {
      "text/plain": [
       "[StairsArtists(stairs=<matplotlib.patches.StepPatch object at 0x155007350>, errorbar=<ErrorbarContainer object of 3 artists>, legend_artist=<ErrorbarContainer object of 3 artists>)]"
      ]
     },
     "execution_count": 104,
     "metadata": {},
     "output_type": "execute_result"
    },
    {
     "data": {
      "image/png": "[encoded data removed]",
      "text/plain": [
       "<Figure size 640x480 with 1 Axes>"
      ]
     },
     "metadata": {},
     "output_type": "display_data"
    }
   ],
   "source": [
    "import hist\n",
    "\n",
    "h = hist.Hist(hist.axis.Regular(120, 60, 120, name=\"mass\"))\n",
    "\n",
    "h.fill(tree[\"M\"].array())\n",
    "\n",
    "h.plot()"
   ]
  },
  {
   "cell_type": "code",
   "execution_count": 105,
   "id": "235315b4-eeea-46c2-85e5-408b64aecf6e",
   "metadata": {},
   "outputs": [
    {
     "data": {
      "text/plain": [
       "[StairsArtists(stairs=<matplotlib.patches.StepPatch object at 0x144b3cc90>, errorbar=<ErrorbarContainer object of 3 artists>, legend_artist=<ErrorbarContainer object of 3 artists>)]"
      ]
     },
     "execution_count": 105,
     "metadata": {},
     "output_type": "execute_result"
    },
    {
     "data": {
      "image/png": "[encoded data removed]",
      "text/plain": [
       "<Figure size 640x480 with 1 Axes>"
      ]
     },
     "metadata": {},
     "output_type": "display_data"
    }
   ],
   "source": [
    "h[10:110].plot()"
   ]
  },
  {
   "cell_type": "code",
   "execution_count": 106,
   "id": "6e1cedf1-b7ff-46c1-a98b-2d0320625106",
   "metadata": {},
   "outputs": [
    {
     "data": {
      "text/plain": [
       "[StairsArtists(stairs=<matplotlib.patches.StepPatch object at 0x154cbb0d0>, errorbar=<ErrorbarContainer object of 3 artists>, legend_artist=<ErrorbarContainer object of 3 artists>)]"
      ]
     },
     "execution_count": 106,
     "metadata": {},
     "output_type": "execute_result"
    },
    {
     "data": {
      "image/png": "[encoded data removed]",
      "text/plain": [
       "<Figure size 640x480 with 1 Axes>"
      ]
     },
     "metadata": {},
     "output_type": "display_data"
    }
   ],
   "source": [
    "h[hist.loc(90) :].plot()"
   ]
  },
  {
   "cell_type": "code",
   "execution_count": 107,
   "id": "e4794e8c-0138-42df-a7cc-4e78ad6baaf4",
   "metadata": {},
   "outputs": [
    {
     "data": {
      "text/plain": [
       "[StairsArtists(stairs=<matplotlib.patches.StepPatch object at 0x144a7a490>, errorbar=<ErrorbarContainer object of 3 artists>, legend_artist=<ErrorbarContainer object of 3 artists>)]"
      ]
     },
     "execution_count": 107,
     "metadata": {},
     "output_type": "execute_result"
    },
    {
     "data": {
      "image/png": "[encoded data removed]",
      "text/plain": [
       "<Figure size 640x480 with 1 Axes>"
      ]
     },
     "metadata": {},
     "output_type": "display_data"
    }
   ],
   "source": [
    "h[:: hist.rebin(2)].plot()"
   ]
  },
  {
   "cell_type": "code",
   "execution_count": 108,
   "id": "3f473b7b-8958-4095-85fa-a84ade5f3457",
   "metadata": {},
   "outputs": [
    {
     "data": {
      "text/plain": [
       "1784.0"
      ]
     },
     "execution_count": 108,
     "metadata": {},
     "output_type": "execute_result"
    }
   ],
   "source": [
    "h[hist.loc(80) : hist.loc(100) : sum]"
   ]
  },
  {
   "cell_type": "code",
   "execution_count": 109,
   "id": "1093e60d-29a7-45e9-8d5e-a918016a015c",
   "metadata": {},
   "outputs": [
    {
     "data": {
      "text/plain": [
       "[StairsArtists(stairs=<matplotlib.patches.StepPatch object at 0x155809b10>, errorbar=<ErrorbarContainer object of 3 artists>, legend_artist=<ErrorbarContainer object of 3 artists>)]"
      ]
     },
     "execution_count": 109,
     "metadata": {},
     "output_type": "execute_result"
    },
    {
     "data": {
      "image/png": "[encoded data removed]",
      "text/plain": [
       "<Figure size 640x480 with 6 Axes>"
      ]
     },
     "metadata": {},
     "output_type": "display_data"
    }
   ],
   "source": [
    "import uproot\n",
    "import hist\n",
    "import awkward as ak\n",
    "\n",
    "picodst = uproot.open(\n",
    "    \"https://pivarski-princeton.s3.amazonaws.com/pythia_ppZee_run17emb.picoDst.root:PicoDst\"\n",
    ")\n",
    "\n",
    "vertexhist = hist.Hist(\n",
    "    hist.axis.Regular(600, -1, 1, label=\"x\"),\n",
    "    hist.axis.Regular(600, -1, 1, label=\"y\"),\n",
    "    hist.axis.Regular(40, -200, 200, label=\"z\"),\n",
    ")\n",
    "\n",
    "vertex_data = picodst.arrays(filter_name=\"*mPrimaryVertex[XYZ]\")\n",
    "\n",
    "vertexhist.fill(\n",
    "    ak.flatten(vertex_data[\"Event.mPrimaryVertexX\"]),\n",
    "    ak.flatten(vertex_data[\"Event.mPrimaryVertexY\"]),\n",
    "    ak.flatten(vertex_data[\"Event.mPrimaryVertexZ\"]),\n",
    ")\n",
    "\n",
    "vertexhist[:, :, sum].plot2d_full()\n",
    "vertexhist[\n",
    "    hist.loc(-0.25) : hist.loc(0.25), hist.loc(-0.25) : hist.loc(0.25), sum\n",
    "].plot2d_full()\n",
    "vertexhist[sum, sum, :].plot()\n",
    "vertexhist[\n",
    "    hist.loc(-0.25) : hist.loc(0.25) : sum, hist.loc(-0.25) : hist.loc(0.25) : sum, :\n",
    "].plot()"
   ]
  },
  {
   "cell_type": "code",
   "execution_count": 110,
   "id": "5f297d0b-c218-440e-b6b0-5dfb8b3c23b9",
   "metadata": {},
   "outputs": [
    {
     "data": {
      "text/plain": [
       "[<matplotlib.lines.Line2D at 0x15537ef10>]"
      ]
     },
     "execution_count": 110,
     "metadata": {},
     "output_type": "execute_result"
    },
    {
     "data": {
      "image/png": "[encoded data removed]",
      "text/plain": [
       "<Figure size 640x480 with 1 Axes>"
      ]
     },
     "metadata": {},
     "output_type": "display_data"
    }
   ],
   "source": [
    "import numpy as np\n",
    "import iminuit.cost\n",
    "\n",
    "norm = len(h.axes[0].widths) / (h.axes[0].edges[-1] - h.axes[0].edges[0]) / h.sum()\n",
    "\n",
    "\n",
    "def f(x, background, mu, gamma):\n",
    "    return (\n",
    "        background\n",
    "        + (1 - background) * gamma**2 / ((x - mu) ** 2 + gamma**2) / np.pi / gamma\n",
    "    )\n",
    "\n",
    "\n",
    "loss = iminuit.cost.LeastSquares(\n",
    "    h.axes[0].centers, h.values() * norm, np.sqrt(h.variances()) * norm, f\n",
    ")\n",
    "loss.mask = h.variances() > 0\n",
    "\n",
    "minimizer = iminuit.Minuit(loss, background=0, mu=91, gamma=4)\n",
    "\n",
    "minimizer.migrad()\n",
    "minimizer.hesse()\n",
    "\n",
    "(h * norm).plot()\n",
    "plt.plot(loss.x, f(loss.x, *minimizer.values))"
   ]
  },
  {
   "cell_type": "code",
   "execution_count": 112,
   "id": "fdea5494-4fc2-43b3-a9d2-46f4876567e3",
   "metadata": {},
   "outputs": [
    {
     "name": "stderr",
     "output_type": "stream",
     "text": [
      "/opt/anaconda3/lib/python3.11/site-packages/zfit/__init__.py:59: UserWarning: TensorFlow warnings are by default suppressed by zfit. In order to show them, set the environment variable ZFIT_DISABLE_TF_WARNINGS=0. In order to suppress the TensorFlow warnings AND this warning, set ZFIT_DISABLE_TF_WARNINGS=1.\n",
      "  warnings.warn(\n"
     ]
    },
    {
     "ename": "ImportError",
     "evalue": "dlopen(/opt/anaconda3/lib/python3.11/site-packages/tensorflow/python/platform/_pywrap_cpu_feature_guard.so, 0x0002): Symbol not found: __ZN6snappy11RawCompressEPKcmPcPmNS_18CompressionOptionsE\n  Referenced from: <9D5E14F4-BFD2-345A-91BA-526D1E44AAFD> /opt/anaconda3/lib/python3.11/site-packages/tensorflow/libtensorflow_framework.2.dylib\n  Expected in:     <87C34BE7-C83E-3B2F-B8C6-AD36E3ECFB38> /opt/anaconda3/lib/libsnappy.1.1.10.dylib",
     "output_type": "error",
     "traceback": [
      "\u001b[0;31m---------------------------------------------------------------------------\u001b[0m",
      "\u001b[0;31mImportError\u001b[0m                               Traceback (most recent call last)",
      "Cell \u001b[0;32mIn[112], line 1\u001b[0m\n\u001b[0;32m----> 1\u001b[0m \u001b[38;5;28;01mimport\u001b[39;00m \u001b[38;5;21;01mzfit\u001b[39;00m\n\u001b[1;32m      3\u001b[0m binned_data \u001b[38;5;241m=\u001b[39m zfit\u001b[38;5;241m.\u001b[39mdata\u001b[38;5;241m.\u001b[39mBinnedData\u001b[38;5;241m.\u001b[39mfrom_hist(h)\n\u001b[1;32m      5\u001b[0m binning \u001b[38;5;241m=\u001b[39m zfit\u001b[38;5;241m.\u001b[39mbinned\u001b[38;5;241m.\u001b[39mRegularBinning(\u001b[38;5;241m120\u001b[39m, \u001b[38;5;241m60\u001b[39m, \u001b[38;5;241m120\u001b[39m, name\u001b[38;5;241m=\u001b[39m\u001b[38;5;124m\"\u001b[39m\u001b[38;5;124mmass\u001b[39m\u001b[38;5;124m\"\u001b[39m)\n",
      "File \u001b[0;32m/opt/anaconda3/lib/python3.11/site-packages/zfit/__init__.py:77\u001b[0m\n\u001b[1;32m     72\u001b[0m     \u001b[38;5;28;01mimport\u001b[39;00m \u001b[38;5;21;01mtensorflow\u001b[39;00m \u001b[38;5;28;01mas\u001b[39;00m \u001b[38;5;21;01mtf\u001b[39;00m\n\u001b[1;32m     74\u001b[0m     tf\u001b[38;5;241m.\u001b[39mget_logger()\u001b[38;5;241m.\u001b[39msetLevel(\u001b[38;5;124m\"\u001b[39m\u001b[38;5;124mERROR\u001b[39m\u001b[38;5;124m\"\u001b[39m)\n\u001b[0;32m---> 77\u001b[0m _maybe_disable_warnings()\n\u001b[1;32m     79\u001b[0m \u001b[38;5;28;01mimport\u001b[39;00m \u001b[38;5;21;01mtensorflow\u001b[39;00m \u001b[38;5;28;01mas\u001b[39;00m \u001b[38;5;21;01m_tf\u001b[39;00m\n\u001b[1;32m     81\u001b[0m \u001b[38;5;28;01mif\u001b[39;00m \u001b[38;5;28mint\u001b[39m(_tf\u001b[38;5;241m.\u001b[39m__version__[\u001b[38;5;241m0\u001b[39m]) \u001b[38;5;241m<\u001b[39m \u001b[38;5;241m2\u001b[39m:\n",
      "File \u001b[0;32m/opt/anaconda3/lib/python3.11/site-packages/zfit/__init__.py:72\u001b[0m, in \u001b[0;36m_maybe_disable_warnings\u001b[0;34m()\u001b[0m\n\u001b[1;32m     69\u001b[0m os\u001b[38;5;241m.\u001b[39menviron[\u001b[38;5;124m\"\u001b[39m\u001b[38;5;124mKMP_AFFINITY\u001b[39m\u001b[38;5;124m\"\u001b[39m] \u001b[38;5;241m=\u001b[39m \u001b[38;5;124m\"\u001b[39m\u001b[38;5;124mnoverbose\u001b[39m\u001b[38;5;124m\"\u001b[39m\n\u001b[1;32m     70\u001b[0m os\u001b[38;5;241m.\u001b[39menviron[\u001b[38;5;124m\"\u001b[39m\u001b[38;5;124mTF_CPP_MIN_LOG_LEVEL\u001b[39m\u001b[38;5;124m\"\u001b[39m] \u001b[38;5;241m=\u001b[39m \u001b[38;5;124m\"\u001b[39m\u001b[38;5;124m2\u001b[39m\u001b[38;5;124m\"\u001b[39m\n\u001b[0;32m---> 72\u001b[0m \u001b[38;5;28;01mimport\u001b[39;00m \u001b[38;5;21;01mtensorflow\u001b[39;00m \u001b[38;5;28;01mas\u001b[39;00m \u001b[38;5;21;01mtf\u001b[39;00m\n\u001b[1;32m     74\u001b[0m tf\u001b[38;5;241m.\u001b[39mget_logger()\u001b[38;5;241m.\u001b[39msetLevel(\u001b[38;5;124m\"\u001b[39m\u001b[38;5;124mERROR\u001b[39m\u001b[38;5;124m\"\u001b[39m)\n",
      "File \u001b[0;32m/opt/anaconda3/lib/python3.11/site-packages/tensorflow/__init__.py:38\u001b[0m\n\u001b[1;32m     35\u001b[0m \u001b[38;5;28;01mimport\u001b[39;00m \u001b[38;5;21;01msys\u001b[39;00m \u001b[38;5;28;01mas\u001b[39;00m \u001b[38;5;21;01m_sys\u001b[39;00m\n\u001b[1;32m     37\u001b[0m \u001b[38;5;66;03m# Do not remove this line; See https://github.com/tensorflow/tensorflow/issues/42596\u001b[39;00m\n\u001b[0;32m---> 38\u001b[0m \u001b[38;5;28;01mfrom\u001b[39;00m \u001b[38;5;21;01mtensorflow\u001b[39;00m\u001b[38;5;21;01m.\u001b[39;00m\u001b[38;5;21;01mpython\u001b[39;00m \u001b[38;5;28;01mimport\u001b[39;00m pywrap_tensorflow  \u001b[38;5;66;03m# pylint: disable=unused-import\u001b[39;00m\n\u001b[1;32m     39\u001b[0m \u001b[38;5;28;01mfrom\u001b[39;00m \u001b[38;5;21;01mtensorflow\u001b[39;00m\u001b[38;5;21;01m.\u001b[39;00m\u001b[38;5;21;01mpython\u001b[39;00m\u001b[38;5;21;01m.\u001b[39;00m\u001b[38;5;21;01mtools\u001b[39;00m \u001b[38;5;28;01mimport\u001b[39;00m module_util \u001b[38;5;28;01mas\u001b[39;00m _module_util\n\u001b[1;32m     40\u001b[0m \u001b[38;5;28;01mfrom\u001b[39;00m \u001b[38;5;21;01mtensorflow\u001b[39;00m\u001b[38;5;21;01m.\u001b[39;00m\u001b[38;5;21;01mpython\u001b[39;00m\u001b[38;5;21;01m.\u001b[39;00m\u001b[38;5;21;01mutil\u001b[39;00m\u001b[38;5;21;01m.\u001b[39;00m\u001b[38;5;21;01mlazy_loader\u001b[39;00m \u001b[38;5;28;01mimport\u001b[39;00m KerasLazyLoader \u001b[38;5;28;01mas\u001b[39;00m _KerasLazyLoader\n",
      "File \u001b[0;32m/opt/anaconda3/lib/python3.11/site-packages/tensorflow/python/pywrap_tensorflow.py:34\u001b[0m\n\u001b[1;32m     29\u001b[0m \u001b[38;5;28;01mfrom\u001b[39;00m \u001b[38;5;21;01mtensorflow\u001b[39;00m\u001b[38;5;21;01m.\u001b[39;00m\u001b[38;5;21;01mpython\u001b[39;00m\u001b[38;5;21;01m.\u001b[39;00m\u001b[38;5;21;01mplatform\u001b[39;00m \u001b[38;5;28;01mimport\u001b[39;00m self_check\n\u001b[1;32m     31\u001b[0m \u001b[38;5;66;03m# TODO(mdan): Cleanup antipattern: import for side effects.\u001b[39;00m\n\u001b[1;32m     32\u001b[0m \n\u001b[1;32m     33\u001b[0m \u001b[38;5;66;03m# Perform pre-load sanity checks in order to produce a more actionable error.\u001b[39;00m\n\u001b[0;32m---> 34\u001b[0m self_check\u001b[38;5;241m.\u001b[39mpreload_check()\n\u001b[1;32m     36\u001b[0m \u001b[38;5;66;03m# pylint: disable=wildcard-import,g-import-not-at-top,unused-import,line-too-long\u001b[39;00m\n\u001b[1;32m     38\u001b[0m \u001b[38;5;28;01mtry\u001b[39;00m:\n\u001b[1;32m     39\u001b[0m   \u001b[38;5;66;03m# This import is expected to fail if there is an explicit shared object\u001b[39;00m\n\u001b[1;32m     40\u001b[0m   \u001b[38;5;66;03m# dependency (with_framework_lib=true), since we do not need RTLD_GLOBAL.\u001b[39;00m\n",
      "File \u001b[0;32m/opt/anaconda3/lib/python3.11/site-packages/tensorflow/python/platform/self_check.py:63\u001b[0m, in \u001b[0;36mpreload_check\u001b[0;34m()\u001b[0m\n\u001b[1;32m     50\u001b[0m       \u001b[38;5;28;01mraise\u001b[39;00m \u001b[38;5;167;01mImportError\u001b[39;00m(\n\u001b[1;32m     51\u001b[0m           \u001b[38;5;124m\"\u001b[39m\u001b[38;5;124mCould not find the DLL(s) \u001b[39m\u001b[38;5;132;01m%r\u001b[39;00m\u001b[38;5;124m. TensorFlow requires that these DLLs \u001b[39m\u001b[38;5;124m\"\u001b[39m\n\u001b[1;32m     52\u001b[0m           \u001b[38;5;124m\"\u001b[39m\u001b[38;5;124mbe installed in a directory that is named in your \u001b[39m\u001b[38;5;132;01m%%\u001b[39;00m\u001b[38;5;124mPATH\u001b[39m\u001b[38;5;132;01m%%\u001b[39;00m\u001b[38;5;124m \u001b[39m\u001b[38;5;124m\"\u001b[39m\n\u001b[0;32m   (...)\u001b[0m\n\u001b[1;32m     56\u001b[0m           \u001b[38;5;124m\"\u001b[39m\u001b[38;5;124mhttps://support.microsoft.com/help/2977003/the-latest-supported-visual-c-downloads\u001b[39m\u001b[38;5;124m\"\u001b[39m\n\u001b[1;32m     57\u001b[0m           \u001b[38;5;241m%\u001b[39m \u001b[38;5;124m\"\u001b[39m\u001b[38;5;124m or \u001b[39m\u001b[38;5;124m\"\u001b[39m\u001b[38;5;241m.\u001b[39mjoin(missing))\n\u001b[1;32m     58\u001b[0m \u001b[38;5;28;01melse\u001b[39;00m:\n\u001b[1;32m     59\u001b[0m   \u001b[38;5;66;03m# Load a library that performs CPU feature guard checking.  Doing this here\u001b[39;00m\n\u001b[1;32m     60\u001b[0m   \u001b[38;5;66;03m# as a preload check makes it more likely that we detect any CPU feature\u001b[39;00m\n\u001b[1;32m     61\u001b[0m   \u001b[38;5;66;03m# incompatibilities before we trigger them (which would typically result in\u001b[39;00m\n\u001b[1;32m     62\u001b[0m   \u001b[38;5;66;03m# SIGILL).\u001b[39;00m\n\u001b[0;32m---> 63\u001b[0m   \u001b[38;5;28;01mfrom\u001b[39;00m \u001b[38;5;21;01mtensorflow\u001b[39;00m\u001b[38;5;21;01m.\u001b[39;00m\u001b[38;5;21;01mpython\u001b[39;00m\u001b[38;5;21;01m.\u001b[39;00m\u001b[38;5;21;01mplatform\u001b[39;00m \u001b[38;5;28;01mimport\u001b[39;00m _pywrap_cpu_feature_guard\n\u001b[1;32m     64\u001b[0m   _pywrap_cpu_feature_guard\u001b[38;5;241m.\u001b[39mInfoAboutUnusedCPUFeatures()\n",
      "\u001b[0;31mImportError\u001b[0m: dlopen(/opt/anaconda3/lib/python3.11/site-packages/tensorflow/python/platform/_pywrap_cpu_feature_guard.so, 0x0002): Symbol not found: __ZN6snappy11RawCompressEPKcmPcPmNS_18CompressionOptionsE\n  Referenced from: <9D5E14F4-BFD2-345A-91BA-526D1E44AAFD> /opt/anaconda3/lib/python3.11/site-packages/tensorflow/libtensorflow_framework.2.dylib\n  Expected in:     <87C34BE7-C83E-3B2F-B8C6-AD36E3ECFB38> /opt/anaconda3/lib/libsnappy.1.1.10.dylib"
     ]
    }
   ],
   "source": [
    "import zfit\n",
    "\n",
    "binned_data = zfit.data.BinnedData.from_hist(h)\n",
    "\n",
    "binning = zfit.binned.RegularBinning(120, 60, 120, name=\"mass\")\n",
    "space = zfit.Space(\"mass\", binning=binning)\n",
    "\n",
    "background = zfit.Parameter(\"background\", 0)\n",
    "mu = zfit.Parameter(\"mu\", 91)\n",
    "gamma = zfit.Parameter(\"gamma\", 4)\n",
    "unbinned_model = zfit.pdf.SumPDF(\n",
    "    [zfit.pdf.Uniform(60, 120, space), zfit.pdf.Cauchy(mu, gamma, space)], [background]\n",
    ")\n",
    "\n",
    "model = zfit.pdf.BinnedFromUnbinnedPDF(unbinned_model, space)\n",
    "loss = zfit.loss.BinnedNLL(model, binned_data)\n",
    "\n",
    "minimizer = zfit.minimize.Minuit()\n",
    "result = minimizer.minimize(loss)\n",
    "\n",
    "binned_data.to_hist().plot(density=1)\n",
    "model.to_hist().plot(density=1)"
   ]
  },
  {
   "cell_type": "code",
   "execution_count": null,
   "id": "c41878a7-a815-439a-a588-1f1cee46293a",
   "metadata": {},
   "outputs": [],
   "source": []
  }
 ],
 "metadata": {
  "kernelspec": {
   "display_name": "Python 3 (ipykernel)",
   "language": "python",
   "name": "python3"
  },
  "language_info": {
   "codemirror_mode": {
    "name": "ipython",
    "version": 3
   },
   "file_extension": ".py",
   "mimetype": "text/x-python",
   "name": "python",
   "nbconvert_exporter": "python",
   "pygments_lexer": "ipython3",
   "version": "3.11.6"
  }
 },
 "nbformat": 4,
 "nbformat_minor": 5
}
